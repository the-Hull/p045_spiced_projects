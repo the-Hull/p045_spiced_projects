{
 "cells": [
  {
   "cell_type": "markdown",
   "metadata": {},
   "source": [
    "# Lyrics.com artist classifier\n",
    "\n",
    "\n",
    "\n",
    "\n",
    "**Goals:**  \n",
    "In this project, we will build a text classification model on song lyrics. \n",
    "The task is to predict the artist from a piece of text. \n",
    "To train such a model, you first need to collect your own lyrics dataset:\n",
    "\n",
    "- Download a HTML page with links to songs\n",
    "\n",
    "- Extract hyperlinks of song pages\n",
    "\n",
    "- Download and extract the song lyrics\n",
    "\n",
    "- Vectorize the text using the Bag Of Words method\n",
    "\n",
    "- train a classification model that predicts the artist from a piece of text\n",
    "\n",
    "- refactor the code into functions\n",
    "\n",
    "- Write a simple command-line interface for the program\n",
    "\n",
    "- upload your code to GitHub\n",
    "\n"
   ]
  },
  {
   "cell_type": "markdown",
   "metadata": {},
   "source": [
    "## Lyrics download\n",
    "\n",
    "- dev functions that:\n",
    "    1. takes artist name, checks if exists, \n",
    "    2. grabs all lyrics links\n",
    "    3. downloads lyrics"
   ]
  },
  {
   "cell_type": "markdown",
   "metadata": {},
   "source": [
    "### Artist Checking"
   ]
  },
  {
   "cell_type": "code",
   "execution_count": 1,
   "metadata": {},
   "outputs": [],
   "source": [
    "import lyrics_fun as lf"
   ]
  },
  {
   "cell_type": "code",
   "execution_count": 2,
   "metadata": {},
   "outputs": [
    {
     "ename": "ConnectionError",
     "evalue": "HTTPSConnectionPool(host='www.lyrics.cottm', port=443): Max retries exceeded with url: /artist/M%C3%B4/ (Caused by NewConnectionError('<urllib3.connection.HTTPSConnection object at 0x7fa26fc6a250>: Failed to establish a new connection: [Errno -2] Name or service not known'))",
     "output_type": "error",
     "traceback": [
      "\u001b[0;31m---------------------------------------------------------------------------\u001b[0m",
      "\u001b[0;31mgaierror\u001b[0m                                  Traceback (most recent call last)",
      "File \u001b[0;32m~/.conda/envs/spiced/lib/python3.8/site-packages/urllib3/connection.py:174\u001b[0m, in \u001b[0;36mHTTPConnection._new_conn\u001b[0;34m(self)\u001b[0m\n\u001b[1;32m    <a href='file:///home/alex/.conda/envs/spiced/lib/python3.8/site-packages/urllib3/connection.py?line=172'>173</a>\u001b[0m \u001b[39mtry\u001b[39;00m:\n\u001b[0;32m--> <a href='file:///home/alex/.conda/envs/spiced/lib/python3.8/site-packages/urllib3/connection.py?line=173'>174</a>\u001b[0m     conn \u001b[39m=\u001b[39m connection\u001b[39m.\u001b[39;49mcreate_connection(\n\u001b[1;32m    <a href='file:///home/alex/.conda/envs/spiced/lib/python3.8/site-packages/urllib3/connection.py?line=174'>175</a>\u001b[0m         (\u001b[39mself\u001b[39;49m\u001b[39m.\u001b[39;49m_dns_host, \u001b[39mself\u001b[39;49m\u001b[39m.\u001b[39;49mport), \u001b[39mself\u001b[39;49m\u001b[39m.\u001b[39;49mtimeout, \u001b[39m*\u001b[39;49m\u001b[39m*\u001b[39;49mextra_kw\n\u001b[1;32m    <a href='file:///home/alex/.conda/envs/spiced/lib/python3.8/site-packages/urllib3/connection.py?line=175'>176</a>\u001b[0m     )\n\u001b[1;32m    <a href='file:///home/alex/.conda/envs/spiced/lib/python3.8/site-packages/urllib3/connection.py?line=177'>178</a>\u001b[0m \u001b[39mexcept\u001b[39;00m SocketTimeout:\n",
      "File \u001b[0;32m~/.conda/envs/spiced/lib/python3.8/site-packages/urllib3/util/connection.py:72\u001b[0m, in \u001b[0;36mcreate_connection\u001b[0;34m(address, timeout, source_address, socket_options)\u001b[0m\n\u001b[1;32m     <a href='file:///home/alex/.conda/envs/spiced/lib/python3.8/site-packages/urllib3/util/connection.py?line=67'>68</a>\u001b[0m     \u001b[39mreturn\u001b[39;00m six\u001b[39m.\u001b[39mraise_from(\n\u001b[1;32m     <a href='file:///home/alex/.conda/envs/spiced/lib/python3.8/site-packages/urllib3/util/connection.py?line=68'>69</a>\u001b[0m         LocationParseError(\u001b[39mu\u001b[39m\u001b[39m\"\u001b[39m\u001b[39m'\u001b[39m\u001b[39m%s\u001b[39;00m\u001b[39m'\u001b[39m\u001b[39m, label empty or too long\u001b[39m\u001b[39m\"\u001b[39m \u001b[39m%\u001b[39m host), \u001b[39mNone\u001b[39;00m\n\u001b[1;32m     <a href='file:///home/alex/.conda/envs/spiced/lib/python3.8/site-packages/urllib3/util/connection.py?line=69'>70</a>\u001b[0m     )\n\u001b[0;32m---> <a href='file:///home/alex/.conda/envs/spiced/lib/python3.8/site-packages/urllib3/util/connection.py?line=71'>72</a>\u001b[0m \u001b[39mfor\u001b[39;00m res \u001b[39min\u001b[39;00m socket\u001b[39m.\u001b[39;49mgetaddrinfo(host, port, family, socket\u001b[39m.\u001b[39;49mSOCK_STREAM):\n\u001b[1;32m     <a href='file:///home/alex/.conda/envs/spiced/lib/python3.8/site-packages/urllib3/util/connection.py?line=72'>73</a>\u001b[0m     af, socktype, proto, canonname, sa \u001b[39m=\u001b[39m res\n",
      "File \u001b[0;32m~/.conda/envs/spiced/lib/python3.8/socket.py:918\u001b[0m, in \u001b[0;36mgetaddrinfo\u001b[0;34m(host, port, family, type, proto, flags)\u001b[0m\n\u001b[1;32m    <a href='file:///home/alex/.conda/envs/spiced/lib/python3.8/socket.py?line=916'>917</a>\u001b[0m addrlist \u001b[39m=\u001b[39m []\n\u001b[0;32m--> <a href='file:///home/alex/.conda/envs/spiced/lib/python3.8/socket.py?line=917'>918</a>\u001b[0m \u001b[39mfor\u001b[39;00m res \u001b[39min\u001b[39;00m _socket\u001b[39m.\u001b[39;49mgetaddrinfo(host, port, family, \u001b[39mtype\u001b[39;49m, proto, flags):\n\u001b[1;32m    <a href='file:///home/alex/.conda/envs/spiced/lib/python3.8/socket.py?line=918'>919</a>\u001b[0m     af, socktype, proto, canonname, sa \u001b[39m=\u001b[39m res\n",
      "\u001b[0;31mgaierror\u001b[0m: [Errno -2] Name or service not known",
      "\nDuring handling of the above exception, another exception occurred:\n",
      "\u001b[0;31mNewConnectionError\u001b[0m                        Traceback (most recent call last)",
      "File \u001b[0;32m~/.conda/envs/spiced/lib/python3.8/site-packages/urllib3/connectionpool.py:703\u001b[0m, in \u001b[0;36mHTTPConnectionPool.urlopen\u001b[0;34m(self, method, url, body, headers, retries, redirect, assert_same_host, timeout, pool_timeout, release_conn, chunked, body_pos, **response_kw)\u001b[0m\n\u001b[1;32m    <a href='file:///home/alex/.conda/envs/spiced/lib/python3.8/site-packages/urllib3/connectionpool.py?line=701'>702</a>\u001b[0m \u001b[39m# Make the request on the httplib connection object.\u001b[39;00m\n\u001b[0;32m--> <a href='file:///home/alex/.conda/envs/spiced/lib/python3.8/site-packages/urllib3/connectionpool.py?line=702'>703</a>\u001b[0m httplib_response \u001b[39m=\u001b[39m \u001b[39mself\u001b[39;49m\u001b[39m.\u001b[39;49m_make_request(\n\u001b[1;32m    <a href='file:///home/alex/.conda/envs/spiced/lib/python3.8/site-packages/urllib3/connectionpool.py?line=703'>704</a>\u001b[0m     conn,\n\u001b[1;32m    <a href='file:///home/alex/.conda/envs/spiced/lib/python3.8/site-packages/urllib3/connectionpool.py?line=704'>705</a>\u001b[0m     method,\n\u001b[1;32m    <a href='file:///home/alex/.conda/envs/spiced/lib/python3.8/site-packages/urllib3/connectionpool.py?line=705'>706</a>\u001b[0m     url,\n\u001b[1;32m    <a href='file:///home/alex/.conda/envs/spiced/lib/python3.8/site-packages/urllib3/connectionpool.py?line=706'>707</a>\u001b[0m     timeout\u001b[39m=\u001b[39;49mtimeout_obj,\n\u001b[1;32m    <a href='file:///home/alex/.conda/envs/spiced/lib/python3.8/site-packages/urllib3/connectionpool.py?line=707'>708</a>\u001b[0m     body\u001b[39m=\u001b[39;49mbody,\n\u001b[1;32m    <a href='file:///home/alex/.conda/envs/spiced/lib/python3.8/site-packages/urllib3/connectionpool.py?line=708'>709</a>\u001b[0m     headers\u001b[39m=\u001b[39;49mheaders,\n\u001b[1;32m    <a href='file:///home/alex/.conda/envs/spiced/lib/python3.8/site-packages/urllib3/connectionpool.py?line=709'>710</a>\u001b[0m     chunked\u001b[39m=\u001b[39;49mchunked,\n\u001b[1;32m    <a href='file:///home/alex/.conda/envs/spiced/lib/python3.8/site-packages/urllib3/connectionpool.py?line=710'>711</a>\u001b[0m )\n\u001b[1;32m    <a href='file:///home/alex/.conda/envs/spiced/lib/python3.8/site-packages/urllib3/connectionpool.py?line=712'>713</a>\u001b[0m \u001b[39m# If we're going to release the connection in ``finally:``, then\u001b[39;00m\n\u001b[1;32m    <a href='file:///home/alex/.conda/envs/spiced/lib/python3.8/site-packages/urllib3/connectionpool.py?line=713'>714</a>\u001b[0m \u001b[39m# the response doesn't need to know about the connection. Otherwise\u001b[39;00m\n\u001b[1;32m    <a href='file:///home/alex/.conda/envs/spiced/lib/python3.8/site-packages/urllib3/connectionpool.py?line=714'>715</a>\u001b[0m \u001b[39m# it will also try to release it and we'll have a double-release\u001b[39;00m\n\u001b[1;32m    <a href='file:///home/alex/.conda/envs/spiced/lib/python3.8/site-packages/urllib3/connectionpool.py?line=715'>716</a>\u001b[0m \u001b[39m# mess.\u001b[39;00m\n",
      "File \u001b[0;32m~/.conda/envs/spiced/lib/python3.8/site-packages/urllib3/connectionpool.py:386\u001b[0m, in \u001b[0;36mHTTPConnectionPool._make_request\u001b[0;34m(self, conn, method, url, timeout, chunked, **httplib_request_kw)\u001b[0m\n\u001b[1;32m    <a href='file:///home/alex/.conda/envs/spiced/lib/python3.8/site-packages/urllib3/connectionpool.py?line=384'>385</a>\u001b[0m \u001b[39mtry\u001b[39;00m:\n\u001b[0;32m--> <a href='file:///home/alex/.conda/envs/spiced/lib/python3.8/site-packages/urllib3/connectionpool.py?line=385'>386</a>\u001b[0m     \u001b[39mself\u001b[39;49m\u001b[39m.\u001b[39;49m_validate_conn(conn)\n\u001b[1;32m    <a href='file:///home/alex/.conda/envs/spiced/lib/python3.8/site-packages/urllib3/connectionpool.py?line=386'>387</a>\u001b[0m \u001b[39mexcept\u001b[39;00m (SocketTimeout, BaseSSLError) \u001b[39mas\u001b[39;00m e:\n\u001b[1;32m    <a href='file:///home/alex/.conda/envs/spiced/lib/python3.8/site-packages/urllib3/connectionpool.py?line=387'>388</a>\u001b[0m     \u001b[39m# Py2 raises this as a BaseSSLError, Py3 raises it as socket timeout.\u001b[39;00m\n",
      "File \u001b[0;32m~/.conda/envs/spiced/lib/python3.8/site-packages/urllib3/connectionpool.py:1040\u001b[0m, in \u001b[0;36mHTTPSConnectionPool._validate_conn\u001b[0;34m(self, conn)\u001b[0m\n\u001b[1;32m   <a href='file:///home/alex/.conda/envs/spiced/lib/python3.8/site-packages/urllib3/connectionpool.py?line=1038'>1039</a>\u001b[0m \u001b[39mif\u001b[39;00m \u001b[39mnot\u001b[39;00m \u001b[39mgetattr\u001b[39m(conn, \u001b[39m\"\u001b[39m\u001b[39msock\u001b[39m\u001b[39m\"\u001b[39m, \u001b[39mNone\u001b[39;00m):  \u001b[39m# AppEngine might not have  `.sock`\u001b[39;00m\n\u001b[0;32m-> <a href='file:///home/alex/.conda/envs/spiced/lib/python3.8/site-packages/urllib3/connectionpool.py?line=1039'>1040</a>\u001b[0m     conn\u001b[39m.\u001b[39;49mconnect()\n\u001b[1;32m   <a href='file:///home/alex/.conda/envs/spiced/lib/python3.8/site-packages/urllib3/connectionpool.py?line=1041'>1042</a>\u001b[0m \u001b[39mif\u001b[39;00m \u001b[39mnot\u001b[39;00m conn\u001b[39m.\u001b[39mis_verified:\n",
      "File \u001b[0;32m~/.conda/envs/spiced/lib/python3.8/site-packages/urllib3/connection.py:358\u001b[0m, in \u001b[0;36mHTTPSConnection.connect\u001b[0;34m(self)\u001b[0m\n\u001b[1;32m    <a href='file:///home/alex/.conda/envs/spiced/lib/python3.8/site-packages/urllib3/connection.py?line=355'>356</a>\u001b[0m \u001b[39mdef\u001b[39;00m \u001b[39mconnect\u001b[39m(\u001b[39mself\u001b[39m):\n\u001b[1;32m    <a href='file:///home/alex/.conda/envs/spiced/lib/python3.8/site-packages/urllib3/connection.py?line=356'>357</a>\u001b[0m     \u001b[39m# Add certificate verification\u001b[39;00m\n\u001b[0;32m--> <a href='file:///home/alex/.conda/envs/spiced/lib/python3.8/site-packages/urllib3/connection.py?line=357'>358</a>\u001b[0m     \u001b[39mself\u001b[39m\u001b[39m.\u001b[39msock \u001b[39m=\u001b[39m conn \u001b[39m=\u001b[39m \u001b[39mself\u001b[39;49m\u001b[39m.\u001b[39;49m_new_conn()\n\u001b[1;32m    <a href='file:///home/alex/.conda/envs/spiced/lib/python3.8/site-packages/urllib3/connection.py?line=358'>359</a>\u001b[0m     hostname \u001b[39m=\u001b[39m \u001b[39mself\u001b[39m\u001b[39m.\u001b[39mhost\n",
      "File \u001b[0;32m~/.conda/envs/spiced/lib/python3.8/site-packages/urllib3/connection.py:186\u001b[0m, in \u001b[0;36mHTTPConnection._new_conn\u001b[0;34m(self)\u001b[0m\n\u001b[1;32m    <a href='file:///home/alex/.conda/envs/spiced/lib/python3.8/site-packages/urllib3/connection.py?line=184'>185</a>\u001b[0m \u001b[39mexcept\u001b[39;00m SocketError \u001b[39mas\u001b[39;00m e:\n\u001b[0;32m--> <a href='file:///home/alex/.conda/envs/spiced/lib/python3.8/site-packages/urllib3/connection.py?line=185'>186</a>\u001b[0m     \u001b[39mraise\u001b[39;00m NewConnectionError(\n\u001b[1;32m    <a href='file:///home/alex/.conda/envs/spiced/lib/python3.8/site-packages/urllib3/connection.py?line=186'>187</a>\u001b[0m         \u001b[39mself\u001b[39m, \u001b[39m\"\u001b[39m\u001b[39mFailed to establish a new connection: \u001b[39m\u001b[39m%s\u001b[39;00m\u001b[39m\"\u001b[39m \u001b[39m%\u001b[39m e\n\u001b[1;32m    <a href='file:///home/alex/.conda/envs/spiced/lib/python3.8/site-packages/urllib3/connection.py?line=187'>188</a>\u001b[0m     )\n\u001b[1;32m    <a href='file:///home/alex/.conda/envs/spiced/lib/python3.8/site-packages/urllib3/connection.py?line=189'>190</a>\u001b[0m \u001b[39mreturn\u001b[39;00m conn\n",
      "\u001b[0;31mNewConnectionError\u001b[0m: <urllib3.connection.HTTPSConnection object at 0x7fa26fc6a250>: Failed to establish a new connection: [Errno -2] Name or service not known",
      "\nDuring handling of the above exception, another exception occurred:\n",
      "\u001b[0;31mMaxRetryError\u001b[0m                             Traceback (most recent call last)",
      "File \u001b[0;32m~/.conda/envs/spiced/lib/python3.8/site-packages/requests/adapters.py:440\u001b[0m, in \u001b[0;36mHTTPAdapter.send\u001b[0;34m(self, request, stream, timeout, verify, cert, proxies)\u001b[0m\n\u001b[1;32m    <a href='file:///home/alex/.conda/envs/spiced/lib/python3.8/site-packages/requests/adapters.py?line=438'>439</a>\u001b[0m \u001b[39mif\u001b[39;00m \u001b[39mnot\u001b[39;00m chunked:\n\u001b[0;32m--> <a href='file:///home/alex/.conda/envs/spiced/lib/python3.8/site-packages/requests/adapters.py?line=439'>440</a>\u001b[0m     resp \u001b[39m=\u001b[39m conn\u001b[39m.\u001b[39;49murlopen(\n\u001b[1;32m    <a href='file:///home/alex/.conda/envs/spiced/lib/python3.8/site-packages/requests/adapters.py?line=440'>441</a>\u001b[0m         method\u001b[39m=\u001b[39;49mrequest\u001b[39m.\u001b[39;49mmethod,\n\u001b[1;32m    <a href='file:///home/alex/.conda/envs/spiced/lib/python3.8/site-packages/requests/adapters.py?line=441'>442</a>\u001b[0m         url\u001b[39m=\u001b[39;49murl,\n\u001b[1;32m    <a href='file:///home/alex/.conda/envs/spiced/lib/python3.8/site-packages/requests/adapters.py?line=442'>443</a>\u001b[0m         body\u001b[39m=\u001b[39;49mrequest\u001b[39m.\u001b[39;49mbody,\n\u001b[1;32m    <a href='file:///home/alex/.conda/envs/spiced/lib/python3.8/site-packages/requests/adapters.py?line=443'>444</a>\u001b[0m         headers\u001b[39m=\u001b[39;49mrequest\u001b[39m.\u001b[39;49mheaders,\n\u001b[1;32m    <a href='file:///home/alex/.conda/envs/spiced/lib/python3.8/site-packages/requests/adapters.py?line=444'>445</a>\u001b[0m         redirect\u001b[39m=\u001b[39;49m\u001b[39mFalse\u001b[39;49;00m,\n\u001b[1;32m    <a href='file:///home/alex/.conda/envs/spiced/lib/python3.8/site-packages/requests/adapters.py?line=445'>446</a>\u001b[0m         assert_same_host\u001b[39m=\u001b[39;49m\u001b[39mFalse\u001b[39;49;00m,\n\u001b[1;32m    <a href='file:///home/alex/.conda/envs/spiced/lib/python3.8/site-packages/requests/adapters.py?line=446'>447</a>\u001b[0m         preload_content\u001b[39m=\u001b[39;49m\u001b[39mFalse\u001b[39;49;00m,\n\u001b[1;32m    <a href='file:///home/alex/.conda/envs/spiced/lib/python3.8/site-packages/requests/adapters.py?line=447'>448</a>\u001b[0m         decode_content\u001b[39m=\u001b[39;49m\u001b[39mFalse\u001b[39;49;00m,\n\u001b[1;32m    <a href='file:///home/alex/.conda/envs/spiced/lib/python3.8/site-packages/requests/adapters.py?line=448'>449</a>\u001b[0m         retries\u001b[39m=\u001b[39;49m\u001b[39mself\u001b[39;49m\u001b[39m.\u001b[39;49mmax_retries,\n\u001b[1;32m    <a href='file:///home/alex/.conda/envs/spiced/lib/python3.8/site-packages/requests/adapters.py?line=449'>450</a>\u001b[0m         timeout\u001b[39m=\u001b[39;49mtimeout\n\u001b[1;32m    <a href='file:///home/alex/.conda/envs/spiced/lib/python3.8/site-packages/requests/adapters.py?line=450'>451</a>\u001b[0m     )\n\u001b[1;32m    <a href='file:///home/alex/.conda/envs/spiced/lib/python3.8/site-packages/requests/adapters.py?line=452'>453</a>\u001b[0m \u001b[39m# Send the request.\u001b[39;00m\n\u001b[1;32m    <a href='file:///home/alex/.conda/envs/spiced/lib/python3.8/site-packages/requests/adapters.py?line=453'>454</a>\u001b[0m \u001b[39melse\u001b[39;00m:\n",
      "File \u001b[0;32m~/.conda/envs/spiced/lib/python3.8/site-packages/urllib3/connectionpool.py:785\u001b[0m, in \u001b[0;36mHTTPConnectionPool.urlopen\u001b[0;34m(self, method, url, body, headers, retries, redirect, assert_same_host, timeout, pool_timeout, release_conn, chunked, body_pos, **response_kw)\u001b[0m\n\u001b[1;32m    <a href='file:///home/alex/.conda/envs/spiced/lib/python3.8/site-packages/urllib3/connectionpool.py?line=782'>783</a>\u001b[0m     e \u001b[39m=\u001b[39m ProtocolError(\u001b[39m\"\u001b[39m\u001b[39mConnection aborted.\u001b[39m\u001b[39m\"\u001b[39m, e)\n\u001b[0;32m--> <a href='file:///home/alex/.conda/envs/spiced/lib/python3.8/site-packages/urllib3/connectionpool.py?line=784'>785</a>\u001b[0m retries \u001b[39m=\u001b[39m retries\u001b[39m.\u001b[39;49mincrement(\n\u001b[1;32m    <a href='file:///home/alex/.conda/envs/spiced/lib/python3.8/site-packages/urllib3/connectionpool.py?line=785'>786</a>\u001b[0m     method, url, error\u001b[39m=\u001b[39;49me, _pool\u001b[39m=\u001b[39;49m\u001b[39mself\u001b[39;49m, _stacktrace\u001b[39m=\u001b[39;49msys\u001b[39m.\u001b[39;49mexc_info()[\u001b[39m2\u001b[39;49m]\n\u001b[1;32m    <a href='file:///home/alex/.conda/envs/spiced/lib/python3.8/site-packages/urllib3/connectionpool.py?line=786'>787</a>\u001b[0m )\n\u001b[1;32m    <a href='file:///home/alex/.conda/envs/spiced/lib/python3.8/site-packages/urllib3/connectionpool.py?line=787'>788</a>\u001b[0m retries\u001b[39m.\u001b[39msleep()\n",
      "File \u001b[0;32m~/.conda/envs/spiced/lib/python3.8/site-packages/urllib3/util/retry.py:592\u001b[0m, in \u001b[0;36mRetry.increment\u001b[0;34m(self, method, url, response, error, _pool, _stacktrace)\u001b[0m\n\u001b[1;32m    <a href='file:///home/alex/.conda/envs/spiced/lib/python3.8/site-packages/urllib3/util/retry.py?line=590'>591</a>\u001b[0m \u001b[39mif\u001b[39;00m new_retry\u001b[39m.\u001b[39mis_exhausted():\n\u001b[0;32m--> <a href='file:///home/alex/.conda/envs/spiced/lib/python3.8/site-packages/urllib3/util/retry.py?line=591'>592</a>\u001b[0m     \u001b[39mraise\u001b[39;00m MaxRetryError(_pool, url, error \u001b[39mor\u001b[39;00m ResponseError(cause))\n\u001b[1;32m    <a href='file:///home/alex/.conda/envs/spiced/lib/python3.8/site-packages/urllib3/util/retry.py?line=593'>594</a>\u001b[0m log\u001b[39m.\u001b[39mdebug(\u001b[39m\"\u001b[39m\u001b[39mIncremented Retry for (url=\u001b[39m\u001b[39m'\u001b[39m\u001b[39m%s\u001b[39;00m\u001b[39m'\u001b[39m\u001b[39m): \u001b[39m\u001b[39m%r\u001b[39;00m\u001b[39m\"\u001b[39m, url, new_retry)\n",
      "\u001b[0;31mMaxRetryError\u001b[0m: HTTPSConnectionPool(host='www.lyrics.cottm', port=443): Max retries exceeded with url: /artist/M%C3%B4/ (Caused by NewConnectionError('<urllib3.connection.HTTPSConnection object at 0x7fa26fc6a250>: Failed to establish a new connection: [Errno -2] Name or service not known'))",
      "\nDuring handling of the above exception, another exception occurred:\n",
      "\u001b[0;31mConnectionError\u001b[0m                           Traceback (most recent call last)",
      "\u001b[1;32m/home/alex/_work/p045_spiced/nlpoblano-student-code/04_week/02_project/_dev_lyrics_classifier.ipynb Cell 5'\u001b[0m in \u001b[0;36m<cell line: 1>\u001b[0;34m()\u001b[0m\n\u001b[0;32m----> <a href='vscode-notebook-cell:/home/alex/_work/p045_spiced/nlpoblano-student-code/04_week/02_project/_dev_lyrics_classifier.ipynb#ch0000004?line=0'>1</a>\u001b[0m arep \u001b[39m=\u001b[39m lf\u001b[39m.\u001b[39;49mget_artist(\u001b[39m\"\u001b[39;49m\u001b[39mMô\u001b[39;49m\u001b[39m\"\u001b[39;49m, \u001b[39mTrue\u001b[39;49;00m)\n\u001b[1;32m      <a href='vscode-notebook-cell:/home/alex/_work/p045_spiced/nlpoblano-student-code/04_week/02_project/_dev_lyrics_classifier.ipynb#ch0000004?line=1'>2</a>\u001b[0m arep\n",
      "File \u001b[0;32m~/_work/p045_spiced/nlpoblano-student-code/04_week/02_project/lyrics_fun.py:58\u001b[0m, in \u001b[0;36mget_artist\u001b[0;34m(artist, verbose)\u001b[0m\n\u001b[1;32m     <a href='file:///home/alex/_work/p045_spiced/nlpoblano-student-code/04_week/02_project/lyrics_fun.py?line=54'>55</a>\u001b[0m base_url \u001b[39m=\u001b[39m \u001b[39m'\u001b[39m\u001b[39mhttps://www.lyrics.cottm\u001b[39m\u001b[39m'\u001b[39m\n\u001b[1;32m     <a href='file:///home/alex/_work/p045_spiced/nlpoblano-student-code/04_week/02_project/lyrics_fun.py?line=55'>56</a>\u001b[0m artist_url \u001b[39m=\u001b[39m base_url \u001b[39m+\u001b[39m \u001b[39m'\u001b[39m\u001b[39m/artist/\u001b[39m\u001b[39m'\u001b[39m \u001b[39m+\u001b[39m upa\u001b[39m.\u001b[39mquote(\u001b[39mstr\u001b[39m\u001b[39m.\u001b[39mstrip(artist)) \u001b[39m+\u001b[39m \u001b[39m'\u001b[39m\u001b[39m/\u001b[39m\u001b[39m'\u001b[39m \n\u001b[0;32m---> <a href='file:///home/alex/_work/p045_spiced/nlpoblano-student-code/04_week/02_project/lyrics_fun.py?line=57'>58</a>\u001b[0m artist_req \u001b[39m=\u001b[39m requests\u001b[39m.\u001b[39;49mget(artist_url)\n\u001b[1;32m     <a href='file:///home/alex/_work/p045_spiced/nlpoblano-student-code/04_week/02_project/lyrics_fun.py?line=59'>60</a>\u001b[0m \u001b[39mif\u001b[39;00m (artist_req\u001b[39m.\u001b[39mstatus_code \u001b[39m!=\u001b[39m \u001b[39m200\u001b[39m):\n\u001b[1;32m     <a href='file:///home/alex/_work/p045_spiced/nlpoblano-student-code/04_week/02_project/lyrics_fun.py?line=60'>61</a>\u001b[0m     \u001b[39mraise\u001b[39;00m \u001b[39mException\u001b[39;00m(\u001b[39m\"\u001b[39m\u001b[39mRequest unsuccessful\u001b[39m\u001b[39m\"\u001b[39m)\n",
      "File \u001b[0;32m~/.conda/envs/spiced/lib/python3.8/site-packages/requests/api.py:75\u001b[0m, in \u001b[0;36mget\u001b[0;34m(url, params, **kwargs)\u001b[0m\n\u001b[1;32m     <a href='file:///home/alex/.conda/envs/spiced/lib/python3.8/site-packages/requests/api.py?line=63'>64</a>\u001b[0m \u001b[39mdef\u001b[39;00m \u001b[39mget\u001b[39m(url, params\u001b[39m=\u001b[39m\u001b[39mNone\u001b[39;00m, \u001b[39m*\u001b[39m\u001b[39m*\u001b[39mkwargs):\n\u001b[1;32m     <a href='file:///home/alex/.conda/envs/spiced/lib/python3.8/site-packages/requests/api.py?line=64'>65</a>\u001b[0m     \u001b[39mr\u001b[39m\u001b[39m\"\"\"Sends a GET request.\u001b[39;00m\n\u001b[1;32m     <a href='file:///home/alex/.conda/envs/spiced/lib/python3.8/site-packages/requests/api.py?line=65'>66</a>\u001b[0m \n\u001b[1;32m     <a href='file:///home/alex/.conda/envs/spiced/lib/python3.8/site-packages/requests/api.py?line=66'>67</a>\u001b[0m \u001b[39m    :param url: URL for the new :class:`Request` object.\u001b[39;00m\n\u001b[0;32m   (...)\u001b[0m\n\u001b[1;32m     <a href='file:///home/alex/.conda/envs/spiced/lib/python3.8/site-packages/requests/api.py?line=71'>72</a>\u001b[0m \u001b[39m    :rtype: requests.Response\u001b[39;00m\n\u001b[1;32m     <a href='file:///home/alex/.conda/envs/spiced/lib/python3.8/site-packages/requests/api.py?line=72'>73</a>\u001b[0m \u001b[39m    \"\"\"\u001b[39;00m\n\u001b[0;32m---> <a href='file:///home/alex/.conda/envs/spiced/lib/python3.8/site-packages/requests/api.py?line=74'>75</a>\u001b[0m     \u001b[39mreturn\u001b[39;00m request(\u001b[39m'\u001b[39;49m\u001b[39mget\u001b[39;49m\u001b[39m'\u001b[39;49m, url, params\u001b[39m=\u001b[39;49mparams, \u001b[39m*\u001b[39;49m\u001b[39m*\u001b[39;49mkwargs)\n",
      "File \u001b[0;32m~/.conda/envs/spiced/lib/python3.8/site-packages/requests/api.py:61\u001b[0m, in \u001b[0;36mrequest\u001b[0;34m(method, url, **kwargs)\u001b[0m\n\u001b[1;32m     <a href='file:///home/alex/.conda/envs/spiced/lib/python3.8/site-packages/requests/api.py?line=56'>57</a>\u001b[0m \u001b[39m# By using the 'with' statement we are sure the session is closed, thus we\u001b[39;00m\n\u001b[1;32m     <a href='file:///home/alex/.conda/envs/spiced/lib/python3.8/site-packages/requests/api.py?line=57'>58</a>\u001b[0m \u001b[39m# avoid leaving sockets open which can trigger a ResourceWarning in some\u001b[39;00m\n\u001b[1;32m     <a href='file:///home/alex/.conda/envs/spiced/lib/python3.8/site-packages/requests/api.py?line=58'>59</a>\u001b[0m \u001b[39m# cases, and look like a memory leak in others.\u001b[39;00m\n\u001b[1;32m     <a href='file:///home/alex/.conda/envs/spiced/lib/python3.8/site-packages/requests/api.py?line=59'>60</a>\u001b[0m \u001b[39mwith\u001b[39;00m sessions\u001b[39m.\u001b[39mSession() \u001b[39mas\u001b[39;00m session:\n\u001b[0;32m---> <a href='file:///home/alex/.conda/envs/spiced/lib/python3.8/site-packages/requests/api.py?line=60'>61</a>\u001b[0m     \u001b[39mreturn\u001b[39;00m session\u001b[39m.\u001b[39;49mrequest(method\u001b[39m=\u001b[39;49mmethod, url\u001b[39m=\u001b[39;49murl, \u001b[39m*\u001b[39;49m\u001b[39m*\u001b[39;49mkwargs)\n",
      "File \u001b[0;32m~/.conda/envs/spiced/lib/python3.8/site-packages/requests/sessions.py:529\u001b[0m, in \u001b[0;36mSession.request\u001b[0;34m(self, method, url, params, data, headers, cookies, files, auth, timeout, allow_redirects, proxies, hooks, stream, verify, cert, json)\u001b[0m\n\u001b[1;32m    <a href='file:///home/alex/.conda/envs/spiced/lib/python3.8/site-packages/requests/sessions.py?line=523'>524</a>\u001b[0m send_kwargs \u001b[39m=\u001b[39m {\n\u001b[1;32m    <a href='file:///home/alex/.conda/envs/spiced/lib/python3.8/site-packages/requests/sessions.py?line=524'>525</a>\u001b[0m     \u001b[39m'\u001b[39m\u001b[39mtimeout\u001b[39m\u001b[39m'\u001b[39m: timeout,\n\u001b[1;32m    <a href='file:///home/alex/.conda/envs/spiced/lib/python3.8/site-packages/requests/sessions.py?line=525'>526</a>\u001b[0m     \u001b[39m'\u001b[39m\u001b[39mallow_redirects\u001b[39m\u001b[39m'\u001b[39m: allow_redirects,\n\u001b[1;32m    <a href='file:///home/alex/.conda/envs/spiced/lib/python3.8/site-packages/requests/sessions.py?line=526'>527</a>\u001b[0m }\n\u001b[1;32m    <a href='file:///home/alex/.conda/envs/spiced/lib/python3.8/site-packages/requests/sessions.py?line=527'>528</a>\u001b[0m send_kwargs\u001b[39m.\u001b[39mupdate(settings)\n\u001b[0;32m--> <a href='file:///home/alex/.conda/envs/spiced/lib/python3.8/site-packages/requests/sessions.py?line=528'>529</a>\u001b[0m resp \u001b[39m=\u001b[39m \u001b[39mself\u001b[39;49m\u001b[39m.\u001b[39;49msend(prep, \u001b[39m*\u001b[39;49m\u001b[39m*\u001b[39;49msend_kwargs)\n\u001b[1;32m    <a href='file:///home/alex/.conda/envs/spiced/lib/python3.8/site-packages/requests/sessions.py?line=530'>531</a>\u001b[0m \u001b[39mreturn\u001b[39;00m resp\n",
      "File \u001b[0;32m~/.conda/envs/spiced/lib/python3.8/site-packages/requests/sessions.py:645\u001b[0m, in \u001b[0;36mSession.send\u001b[0;34m(self, request, **kwargs)\u001b[0m\n\u001b[1;32m    <a href='file:///home/alex/.conda/envs/spiced/lib/python3.8/site-packages/requests/sessions.py?line=641'>642</a>\u001b[0m start \u001b[39m=\u001b[39m preferred_clock()\n\u001b[1;32m    <a href='file:///home/alex/.conda/envs/spiced/lib/python3.8/site-packages/requests/sessions.py?line=643'>644</a>\u001b[0m \u001b[39m# Send the request\u001b[39;00m\n\u001b[0;32m--> <a href='file:///home/alex/.conda/envs/spiced/lib/python3.8/site-packages/requests/sessions.py?line=644'>645</a>\u001b[0m r \u001b[39m=\u001b[39m adapter\u001b[39m.\u001b[39;49msend(request, \u001b[39m*\u001b[39;49m\u001b[39m*\u001b[39;49mkwargs)\n\u001b[1;32m    <a href='file:///home/alex/.conda/envs/spiced/lib/python3.8/site-packages/requests/sessions.py?line=646'>647</a>\u001b[0m \u001b[39m# Total elapsed time of the request (approximately)\u001b[39;00m\n\u001b[1;32m    <a href='file:///home/alex/.conda/envs/spiced/lib/python3.8/site-packages/requests/sessions.py?line=647'>648</a>\u001b[0m elapsed \u001b[39m=\u001b[39m preferred_clock() \u001b[39m-\u001b[39m start\n",
      "File \u001b[0;32m~/.conda/envs/spiced/lib/python3.8/site-packages/requests/adapters.py:519\u001b[0m, in \u001b[0;36mHTTPAdapter.send\u001b[0;34m(self, request, stream, timeout, verify, cert, proxies)\u001b[0m\n\u001b[1;32m    <a href='file:///home/alex/.conda/envs/spiced/lib/python3.8/site-packages/requests/adapters.py?line=514'>515</a>\u001b[0m     \u001b[39mif\u001b[39;00m \u001b[39misinstance\u001b[39m(e\u001b[39m.\u001b[39mreason, _SSLError):\n\u001b[1;32m    <a href='file:///home/alex/.conda/envs/spiced/lib/python3.8/site-packages/requests/adapters.py?line=515'>516</a>\u001b[0m         \u001b[39m# This branch is for urllib3 v1.22 and later.\u001b[39;00m\n\u001b[1;32m    <a href='file:///home/alex/.conda/envs/spiced/lib/python3.8/site-packages/requests/adapters.py?line=516'>517</a>\u001b[0m         \u001b[39mraise\u001b[39;00m SSLError(e, request\u001b[39m=\u001b[39mrequest)\n\u001b[0;32m--> <a href='file:///home/alex/.conda/envs/spiced/lib/python3.8/site-packages/requests/adapters.py?line=518'>519</a>\u001b[0m     \u001b[39mraise\u001b[39;00m \u001b[39mConnectionError\u001b[39;00m(e, request\u001b[39m=\u001b[39mrequest)\n\u001b[1;32m    <a href='file:///home/alex/.conda/envs/spiced/lib/python3.8/site-packages/requests/adapters.py?line=520'>521</a>\u001b[0m \u001b[39mexcept\u001b[39;00m ClosedPoolError \u001b[39mas\u001b[39;00m e:\n\u001b[1;32m    <a href='file:///home/alex/.conda/envs/spiced/lib/python3.8/site-packages/requests/adapters.py?line=521'>522</a>\u001b[0m     \u001b[39mraise\u001b[39;00m \u001b[39mConnectionError\u001b[39;00m(e, request\u001b[39m=\u001b[39mrequest)\n",
      "\u001b[0;31mConnectionError\u001b[0m: HTTPSConnectionPool(host='www.lyrics.cottm', port=443): Max retries exceeded with url: /artist/M%C3%B4/ (Caused by NewConnectionError('<urllib3.connection.HTTPSConnection object at 0x7fa26fc6a250>: Failed to establish a new connection: [Errno -2] Name or service not known'))"
     ]
    }
   ],
   "source": [
    "arep = lf.get_artist(\"Mô\", True)\n",
    "arep"
   ]
  },
  {
   "cell_type": "code",
   "execution_count": 3,
   "metadata": {},
   "outputs": [
    {
     "name": "stdout",
     "output_type": "stream",
     "text": [
      "Artist: twiddieyiszl ----- Status: 200\n"
     ]
    },
    {
     "data": {
      "text/plain": [
       "{'artist': 'twiddieyiszl',\n",
       " 'url': 'https://www.lyrics.com/artist/twiddieyiszl/',\n",
       " 'response': <Response [200]>,\n",
       " 'status_code': 200,\n",
       " 'exists_on_site': False}"
      ]
     },
     "execution_count": 3,
     "metadata": {},
     "output_type": "execute_result"
    }
   ],
   "source": [
    "arep = lf.get_artist(\"twiddieyiszl\", True)\n",
    "arep"
   ]
  },
  {
   "cell_type": "code",
   "execution_count": 9,
   "metadata": {},
   "outputs": [
    {
     "name": "stdout",
     "output_type": "stream",
     "text": [
      "Artist: Olivia Rodrigo ----- Status: 200\n",
      "Found unique artist\n"
     ]
    },
    {
     "data": {
      "text/plain": [
       "'https://www.lyrics.com/artist/Olivia%20Rodrigo/'"
      ]
     },
     "execution_count": 9,
     "metadata": {},
     "output_type": "execute_result"
    }
   ],
   "source": [
    "# test with single hit\n",
    "req = lf.get_artist(\"Olivia Rodrigo\", True)\n",
    "arep = req['response']\n",
    "aurl =req['url']\n",
    "lf.refine_artist_link(arep, aurl, 'lyrics.com/', False)\n"
   ]
  },
  {
   "cell_type": "code",
   "execution_count": 7,
   "metadata": {},
   "outputs": [
    {
     "name": "stdout",
     "output_type": "stream",
     "text": [
      "Found unique artist\n"
     ]
    },
    {
     "data": {
      "text/plain": [
       "'https://www.lyrics.com/artist/Kiss/'"
      ]
     },
     "execution_count": 7,
     "metadata": {},
     "output_type": "execute_result"
    }
   ],
   "source": [
    "# test with single hit\n",
    "req = lf.get_artist(\"Kiss\", False)\n",
    "arep = req['response']\n",
    "aurl =req['url']\n",
    "lf.refine_artist_link(arep, aurl, 'lyrics.com/', True)\n"
   ]
  },
  {
   "cell_type": "code",
   "execution_count": 5,
   "metadata": {},
   "outputs": [
    {
     "name": "stdout",
     "output_type": "stream",
     "text": [
      "Artist: sun ----- Status: 200\n",
      "Several options for artist; picking first\n",
      "Several options for artist; picking first\n"
     ]
    },
    {
     "name": "stderr",
     "output_type": "stream",
     "text": [
      "/home/alex/_work/p045_spiced/nlpoblano-student-code/04_week/02_project/lyrics_fun.py:24: GuessedAtParserWarning: No parser was explicitly specified, so I'm using the best available HTML parser for this system (\"html.parser\"). This usually isn't a problem, but if you run this code on another system, or in a different virtual environment, it may use a different parser and behave differently.\n",
      "\n",
      "The code that caused this warning is on line 24 of the file /home/alex/_work/p045_spiced/nlpoblano-student-code/04_week/02_project/lyrics_fun.py. To get rid of this warning, pass the additional argument 'features=\"html.parser\"' to the BeautifulSoup constructor.\n",
      "\n",
      "  artist_url_clean = base_url + BeautifulSoup(artist_req.text).find(class_= \"tal fx\").a['href']\n"
     ]
    },
    {
     "data": {
      "text/plain": [
       "'lyrics.com/artist/Sun/5559'"
      ]
     },
     "execution_count": 5,
     "metadata": {},
     "output_type": "execute_result"
    }
   ],
   "source": [
    "# test with multi hit\n",
    "req = lf.get_artist(\"sun\", True)\n",
    "arep = req['response']\n",
    "aurl =req['url']\n",
    "lf.refine_artist_link(arep, aurl, 'lyrics.com/', True)\n"
   ]
  },
  {
   "cell_type": "code",
   "execution_count": 4,
   "metadata": {},
   "outputs": [
    {
     "name": "stdout",
     "output_type": "stream",
     "text": [
      "Artist: gibidigbisij2 ----- Status: 200\n",
      "No unique artist found\n",
      "No unique artist found\n"
     ]
    }
   ],
   "source": [
    "# test with no hit\n",
    "req = lf.get_artist(\"gibidigbisij2\", True)\n",
    "arep = req['response']\n",
    "aurl =req['url']\n",
    "lf.refine_artist_link(arep, aurl, 'lyrics.com/', True)\n"
   ]
  },
  {
   "cell_type": "code",
   "execution_count": 2,
   "metadata": {},
   "outputs": [
    {
     "name": "stdout",
     "output_type": "stream",
     "text": [
      "Artist: Olivia Rodrigo ----- Status: 200\n",
      "Found unique artist\n"
     ]
    },
    {
     "data": {
      "text/plain": [
       "{'base_url': 'https://www.lyrics.com/',\n",
       " 'artist': 'Olivia Rodrigo',\n",
       " 'url': 'https://www.lyrics.com/artist/Olivia%20Rodrigo/',\n",
       " 'url_refined': 'https://www.lyrics.com/artist/Olivia%20Rodrigo/',\n",
       " 'response': <Response [200]>,\n",
       " 'status_code': 200,\n",
       " 'exists_on_site': True}"
      ]
     },
     "execution_count": 2,
     "metadata": {},
     "output_type": "execute_result"
    }
   ],
   "source": [
    "artist = lf.get_artist(\"Olivia Rodrigo\", True)\n",
    "artist"
   ]
  },
  {
   "cell_type": "markdown",
   "metadata": {},
   "source": [
    "### Grab lyric links\n",
    "\n",
    "\n",
    "- check if `exists_on_site = True`\n",
    "- grab all song links"
   ]
  },
  {
   "cell_type": "code",
   "execution_count": 1,
   "metadata": {},
   "outputs": [
    {
     "name": "stdout",
     "output_type": "stream",
     "text": [
      "Artist: Sun ----- Status: 200\n",
      "    Several options for artist; picking first\n",
      "    Dropped 20 duplicated lyric links\n",
      "    Dropped 1 instrumental lyric link(s)\n"
     ]
    },
    {
     "data": {
      "text/plain": [
       "6"
      ]
     },
     "execution_count": 1,
     "metadata": {},
     "output_type": "execute_result"
    }
   ],
   "source": [
    "import lyrics_fun as lf\n",
    "\n",
    "artist = lf.get_artist(\"Sun\", True)\n",
    "artist_links = lf.extract_lyric_links(artist, drop_duplicates = True, drop_instrumentals = True, verbose=True)\n",
    "len(artist_links['links'])"
   ]
  },
  {
   "cell_type": "code",
   "execution_count": 2,
   "metadata": {},
   "outputs": [
    {
     "data": {
      "text/plain": [
       "{'base_url': 'https://www.lyrics.com',\n",
       " 'artist': 'Sun',\n",
       " 'url': 'https://www.lyrics.com/artist/Sun/',\n",
       " 'url_refined': 'https://www.lyrics.com/artist/Sun/5559',\n",
       " 'response': <Response [200]>,\n",
       " 'status_code': 200,\n",
       " 'exists_on_site': True}"
      ]
     },
     "execution_count": 2,
     "metadata": {},
     "output_type": "execute_result"
    }
   ],
   "source": [
    "artist"
   ]
  },
  {
   "cell_type": "code",
   "execution_count": 3,
   "metadata": {},
   "outputs": [
    {
     "data": {
      "text/plain": [
       "{'base_url': 'https://www.lyrics.com',\n",
       " 'artist': 'Sun',\n",
       " 'url': 'https://www.lyrics.com/artist/Sun/',\n",
       " 'url_refined': 'https://www.lyrics.com/artist/Sun/5559',\n",
       " 'response': <Response [200]>,\n",
       " 'status_code': 200,\n",
       " 'exists_on_site': True,\n",
       " 'links': ['https://www.lyrics.com/lyric/7067990/Sun/I+Had+a+Choice',\n",
       "  'https://www.lyrics.com/lyric/3611604/Sun/Sun+Is+Here',\n",
       "  'https://www.lyrics.com/lyric/4595999/Sun/Force+of+Nature',\n",
       "  'https://www.lyrics.com/lyric/4596655/Sun/My+Woman',\n",
       "  'https://www.lyrics.com/lyric-lf/6468010/Sun/Sailor',\n",
       "  'https://www.lyrics.com/lyric-lf/1361310/Sun/Ms.+Communication']}"
      ]
     },
     "execution_count": 3,
     "metadata": {},
     "output_type": "execute_result"
    }
   ],
   "source": [
    "artist_links"
   ]
  },
  {
   "cell_type": "markdown",
   "metadata": {},
   "source": [
    "### Download lyrics\n",
    "\n",
    "Options for dropping duplicates and instrumentals"
   ]
  },
  {
   "cell_type": "code",
   "execution_count": 2,
   "metadata": {},
   "outputs": [],
   "source": [
    "extract_test = lf.extract_lyric(artist_links=artist_links, verbose = False)"
   ]
  },
  {
   "cell_type": "code",
   "execution_count": 11,
   "metadata": {},
   "outputs": [
    {
     "data": {
      "text/html": [
       "<div>\n",
       "<style scoped>\n",
       "    .dataframe tbody tr th:only-of-type {\n",
       "        vertical-align: middle;\n",
       "    }\n",
       "\n",
       "    .dataframe tbody tr th {\n",
       "        vertical-align: top;\n",
       "    }\n",
       "\n",
       "    .dataframe thead th {\n",
       "        text-align: right;\n",
       "    }\n",
       "</style>\n",
       "<table border=\"1\" class=\"dataframe\">\n",
       "  <thead>\n",
       "    <tr style=\"text-align: right;\">\n",
       "      <th></th>\n",
       "      <th>title</th>\n",
       "      <th>lyric</th>\n",
       "    </tr>\n",
       "  </thead>\n",
       "  <tbody>\n",
       "    <tr>\n",
       "      <th>0</th>\n",
       "      <td>I Had a Choice</td>\n",
       "      <td>Holding hands, strolling through the park Swee...</td>\n",
       "    </tr>\n",
       "    <tr>\n",
       "      <th>1</th>\n",
       "      <td>Sun Is Here</td>\n",
       "      <td>You come in numbers to feel a groove I have a ...</td>\n",
       "    </tr>\n",
       "    <tr>\n",
       "      <th>2</th>\n",
       "      <td>Force of Nature</td>\n",
       "      <td>It's gettin kinda heavy! Yeah yeah It's gettin...</td>\n",
       "    </tr>\n",
       "    <tr>\n",
       "      <th>3</th>\n",
       "      <td>My Woman</td>\n",
       "      <td>Little boy was blue because he knew that soon ...</td>\n",
       "    </tr>\n",
       "    <tr>\n",
       "      <th>4</th>\n",
       "      <td>Sailor</td>\n",
       "      <td>Sailor What do you want from me? Sailor I'm no...</td>\n",
       "    </tr>\n",
       "    <tr>\n",
       "      <th>5</th>\n",
       "      <td>Ms. Communication</td>\n",
       "      <td>I just wanna put it all on the table Maybe we ...</td>\n",
       "    </tr>\n",
       "  </tbody>\n",
       "</table>\n",
       "</div>"
      ],
      "text/plain": [
       "               title                                              lyric\n",
       "0     I Had a Choice  Holding hands, strolling through the park Swee...\n",
       "1        Sun Is Here  You come in numbers to feel a groove I have a ...\n",
       "2    Force of Nature  It's gettin kinda heavy! Yeah yeah It's gettin...\n",
       "3           My Woman  Little boy was blue because he knew that soon ...\n",
       "4             Sailor  Sailor What do you want from me? Sailor I'm no...\n",
       "5  Ms. Communication  I just wanna put it all on the table Maybe we ..."
      ]
     },
     "execution_count": 11,
     "metadata": {},
     "output_type": "execute_result"
    }
   ],
   "source": [
    "lf.pd.DataFrame({'title' : extract_test['lyric_titles'], 'lyric': extract_test['lyric_text']})"
   ]
  },
  {
   "cell_type": "markdown",
   "metadata": {},
   "source": [
    "## Improvements\n",
    "\n",
    "- Scan for non-english text?!\n",
    "- Strip symbols/punctuation/notation\n",
    "- strip typical lyrical notation/syntax, like \"Verse 2\", \"Hook\""
   ]
  }
 ],
 "metadata": {
  "interpreter": {
   "hash": "69a3ce2f6bb012100e6d3a6dfc53e3c28c80191f058a0e7543246ccbd94b8b45"
  },
  "kernelspec": {
   "display_name": "Python 3.8.5 ('spiced')",
   "language": "python",
   "name": "python3"
  },
  "language_info": {
   "codemirror_mode": {
    "name": "ipython",
    "version": 3
   },
   "file_extension": ".py",
   "mimetype": "text/x-python",
   "name": "python",
   "nbconvert_exporter": "python",
   "pygments_lexer": "ipython3",
   "version": "3.8.5"
  },
  "orig_nbformat": 4
 },
 "nbformat": 4,
 "nbformat_minor": 2
}
