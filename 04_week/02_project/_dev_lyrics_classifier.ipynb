{
 "cells": [
  {
   "cell_type": "markdown",
   "metadata": {},
   "source": [
    "# Lyrics.com artist classifier\n",
    "\n",
    "\n",
    "\n",
    "\n",
    "**Goals:**  \n",
    "In this project, we will build a text classification model on song lyrics. \n",
    "The task is to predict the artist from a piece of text. \n",
    "To train such a model, you first need to collect your own lyrics dataset:\n",
    "\n",
    "- Download a HTML page with links to songs\n",
    "\n",
    "- Extract hyperlinks of song pages\n",
    "\n",
    "- Download and extract the song lyrics\n",
    "\n",
    "- Vectorize the text using the Bag Of Words method\n",
    "\n",
    "- train a classification model that predicts the artist from a piece of text\n",
    "\n",
    "- refactor the code into functions\n",
    "\n",
    "- Write a simple command-line interface for the program\n",
    "\n",
    "- upload your code to GitHub\n",
    "\n"
   ]
  },
  {
   "cell_type": "markdown",
   "metadata": {},
   "source": [
    "## Lyrics download\n",
    "\n",
    "- dev functions that:\n",
    "    1. takes artist name, checks if exists, \n",
    "    2. grabs all lyrics links\n",
    "    3. downloads lyrics"
   ]
  },
  {
   "cell_type": "markdown",
   "metadata": {},
   "source": [
    "### Artist Checking"
   ]
  },
  {
   "cell_type": "code",
   "execution_count": 1,
   "metadata": {},
   "outputs": [],
   "source": [
    "import lyrics_fun as lf"
   ]
  },
  {
   "cell_type": "code",
   "execution_count": 2,
   "metadata": {},
   "outputs": [
    {
     "name": "stdout",
     "output_type": "stream",
     "text": [
      "Artist: Mô ----- Status: 200\n"
     ]
    },
    {
     "data": {
      "text/plain": [
       "{'artist': 'Mô',\n",
       " 'url': 'https://www.lyrics.com/artist/M%C3%B4/',\n",
       " 'response': <Response [200]>,\n",
       " 'status_code': 200,\n",
       " 'exists_on_site': True}"
      ]
     },
     "execution_count": 2,
     "metadata": {},
     "output_type": "execute_result"
    }
   ],
   "source": [
    "arep = lf.get_artist(\"Mô\", True)\n",
    "arep"
   ]
  },
  {
   "cell_type": "code",
   "execution_count": 3,
   "metadata": {},
   "outputs": [
    {
     "name": "stdout",
     "output_type": "stream",
     "text": [
      "Artist: twiddieyiszl ----- Status: 200\n"
     ]
    },
    {
     "data": {
      "text/plain": [
       "{'artist': 'twiddieyiszl',\n",
       " 'url': 'https://www.lyrics.com/artist/twiddieyiszl/',\n",
       " 'response': <Response [200]>,\n",
       " 'status_code': 200,\n",
       " 'exists_on_site': False}"
      ]
     },
     "execution_count": 3,
     "metadata": {},
     "output_type": "execute_result"
    }
   ],
   "source": [
    "arep = lf.get_artist(\"twiddieyiszl\", True)\n",
    "arep"
   ]
  },
  {
   "cell_type": "code",
   "execution_count": 9,
   "metadata": {},
   "outputs": [
    {
     "name": "stdout",
     "output_type": "stream",
     "text": [
      "Artist: Olivia Rodrigo ----- Status: 200\n",
      "Found unique artist\n"
     ]
    },
    {
     "data": {
      "text/plain": [
       "'https://www.lyrics.com/artist/Olivia%20Rodrigo/'"
      ]
     },
     "execution_count": 9,
     "metadata": {},
     "output_type": "execute_result"
    }
   ],
   "source": [
    "# test with single hit\n",
    "req = lf.get_artist(\"Olivia Rodrigo\", True)\n",
    "arep = req['response']\n",
    "aurl =req['url']\n",
    "lf.refine_artist_link(arep, aurl, 'lyrics.com/', False)\n"
   ]
  },
  {
   "cell_type": "code",
   "execution_count": 7,
   "metadata": {},
   "outputs": [
    {
     "name": "stdout",
     "output_type": "stream",
     "text": [
      "Found unique artist\n"
     ]
    },
    {
     "data": {
      "text/plain": [
       "'https://www.lyrics.com/artist/Kiss/'"
      ]
     },
     "execution_count": 7,
     "metadata": {},
     "output_type": "execute_result"
    }
   ],
   "source": [
    "# test with single hit\n",
    "req = lf.get_artist(\"Kiss\", False)\n",
    "arep = req['response']\n",
    "aurl =req['url']\n",
    "lf.refine_artist_link(arep, aurl, 'lyrics.com/', True)\n"
   ]
  },
  {
   "cell_type": "code",
   "execution_count": 5,
   "metadata": {},
   "outputs": [
    {
     "name": "stdout",
     "output_type": "stream",
     "text": [
      "Artist: sun ----- Status: 200\n",
      "Several options for artist; picking first\n",
      "Several options for artist; picking first\n"
     ]
    },
    {
     "name": "stderr",
     "output_type": "stream",
     "text": [
      "/home/alex/_work/p045_spiced/nlpoblano-student-code/04_week/02_project/lyrics_fun.py:24: GuessedAtParserWarning: No parser was explicitly specified, so I'm using the best available HTML parser for this system (\"html.parser\"). This usually isn't a problem, but if you run this code on another system, or in a different virtual environment, it may use a different parser and behave differently.\n",
      "\n",
      "The code that caused this warning is on line 24 of the file /home/alex/_work/p045_spiced/nlpoblano-student-code/04_week/02_project/lyrics_fun.py. To get rid of this warning, pass the additional argument 'features=\"html.parser\"' to the BeautifulSoup constructor.\n",
      "\n",
      "  artist_url_clean = base_url + BeautifulSoup(artist_req.text).find(class_= \"tal fx\").a['href']\n"
     ]
    },
    {
     "data": {
      "text/plain": [
       "'lyrics.com/artist/Sun/5559'"
      ]
     },
     "execution_count": 5,
     "metadata": {},
     "output_type": "execute_result"
    }
   ],
   "source": [
    "# test with multi hit\n",
    "req = lf.get_artist(\"sun\", True)\n",
    "arep = req['response']\n",
    "aurl =req['url']\n",
    "lf.refine_artist_link(arep, aurl, 'lyrics.com/', True)\n"
   ]
  },
  {
   "cell_type": "code",
   "execution_count": 4,
   "metadata": {},
   "outputs": [
    {
     "name": "stdout",
     "output_type": "stream",
     "text": [
      "Artist: gibidigbisij2 ----- Status: 200\n",
      "No unique artist found\n",
      "No unique artist found\n"
     ]
    }
   ],
   "source": [
    "# test with no hit\n",
    "req = lf.get_artist(\"gibidigbisij2\", True)\n",
    "arep = req['response']\n",
    "aurl =req['url']\n",
    "lf.refine_artist_link(arep, aurl, 'lyrics.com/', True)\n"
   ]
  },
  {
   "cell_type": "code",
   "execution_count": 2,
   "metadata": {},
   "outputs": [
    {
     "name": "stdout",
     "output_type": "stream",
     "text": [
      "Artist: Olivia Rodrigo ----- Status: 200\n",
      "Found unique artist\n"
     ]
    },
    {
     "data": {
      "text/plain": [
       "{'base_url': 'https://www.lyrics.com/',\n",
       " 'artist': 'Olivia Rodrigo',\n",
       " 'url': 'https://www.lyrics.com/artist/Olivia%20Rodrigo/',\n",
       " 'url_refined': 'https://www.lyrics.com/artist/Olivia%20Rodrigo/',\n",
       " 'response': <Response [200]>,\n",
       " 'status_code': 200,\n",
       " 'exists_on_site': True}"
      ]
     },
     "execution_count": 2,
     "metadata": {},
     "output_type": "execute_result"
    }
   ],
   "source": [
    "artist = lf.get_artist(\"Olivia Rodrigo\", True)\n",
    "artist"
   ]
  },
  {
   "cell_type": "markdown",
   "metadata": {},
   "source": [
    "### Grab lyric links\n",
    "\n",
    "\n",
    "- check if `exists_on_site = True`\n",
    "- grab all song links"
   ]
  },
  {
   "cell_type": "code",
   "execution_count": 6,
   "metadata": {},
   "outputs": [
    {
     "data": {
      "text/plain": [
       "62"
      ]
     },
     "execution_count": 6,
     "metadata": {},
     "output_type": "execute_result"
    }
   ],
   "source": [
    "artist_links = lf.extract_lyric_links(artist)\n",
    "len(artist_links)"
   ]
  },
  {
   "cell_type": "code",
   "execution_count": 7,
   "metadata": {},
   "outputs": [
    {
     "data": {
      "text/plain": [
       "27"
      ]
     },
     "execution_count": 7,
     "metadata": {},
     "output_type": "execute_result"
    }
   ],
   "source": [
    "artist_links = lf.extract_lyric_links(artist, drop_duplicates=True)\n",
    "len(artist_links)"
   ]
  },
  {
   "cell_type": "code",
   "execution_count": 8,
   "metadata": {},
   "outputs": [
    {
     "data": {
      "text/plain": [
       "['https://www.lyrics.com//lyric/36787072/Olivia+Rodrigo/Out+of+the+Old',\n",
       " 'https://www.lyrics.com//lyric-lf/2475944/Olivia+Rodrigo/drivers+license',\n",
       " 'https://www.lyrics.com//lyric/38568767/Olivia+Rodrigo/Granted',\n",
       " 'https://www.lyrics.com//lyric/36787087/Olivia+Rodrigo/Start+of+Something+New+%5BNini+Version%5D',\n",
       " 'https://www.lyrics.com//lyric/37008833/Olivia+Rodrigo/All+I+Want',\n",
       " 'https://www.lyrics.com//lyric/36787078/Olivia+Rodrigo/What+I%27ve+Been+Looking+For',\n",
       " 'https://www.lyrics.com//lyric/37845689/Olivia+Rodrigo/Breaking+Free',\n",
       " 'https://www.lyrics.com//lyric/38599179/Olivia+Rodrigo/The+Rose+Song',\n",
       " 'https://www.lyrics.com//lyric-lf/3767046/Olivia+Rodrigo/jealousy%2C+jealousy',\n",
       " 'https://www.lyrics.com//lyric-lf/3767047/Olivia+Rodrigo/Favorite+Crime',\n",
       " 'https://www.lyrics.com//lyric/38292081/Olivia+Rodrigo/favorite+crime',\n",
       " 'https://www.lyrics.com//lyric-lf/1647108/Olivia+Rodrigo/Just+for+a+Moment',\n",
       " 'https://www.lyrics.com//lyric-lf/1647167/Olivia+Rodrigo/Bop+to+the+Top',\n",
       " 'https://www.lyrics.com//lyric-lf/3457953/Olivia+Rodrigo/good+4+u',\n",
       " 'https://www.lyrics.com//lyric-lf/1647150/Olivia+Rodrigo/I+Think+I+Kinda%2C+You+Know+%5BNini+Version%5D',\n",
       " 'https://www.lyrics.com//lyric-lf/3767048/Olivia+Rodrigo/hope+ur+ok',\n",
       " 'https://www.lyrics.com//lyric-lf/3767044/Olivia+Rodrigo/enough+for+you',\n",
       " 'https://www.lyrics.com//lyric-lf/1647142/Olivia+Rodrigo/Wondering+%5BAshlyn+%26+Nini+Piano+Version%5D',\n",
       " 'https://www.lyrics.com//lyric-lf/3767040/Olivia+Rodrigo/brutal',\n",
       " 'https://www.lyrics.com//lyric-lf/3349205/Olivia+Rodrigo/deja+vu',\n",
       " 'https://www.lyrics.com//lyric/38292083/Olivia+Rodrigo/happier',\n",
       " 'https://www.lyrics.com//lyric/38292089/Olivia+Rodrigo/traitor',\n",
       " 'https://www.lyrics.com//lyric/36787082/Olivia+Rodrigo/Wondering',\n",
       " 'https://www.lyrics.com//lyric/36649024/Olivia+Rodrigo/I+Think+I+Kinda%2C+You+Know+%5BDuet%5D',\n",
       " 'https://www.lyrics.com//lyric/38397690/Olivia+Rodrigo/Even+When-The+Best+Part+%5BFrom+%22High+School+Musical%3A+The+Musical%3A+The+Series%5D',\n",
       " 'https://www.lyrics.com//lyric/37792945/Olivia+Rodrigo/River',\n",
       " 'https://www.lyrics.com//lyric/38292087/Olivia+Rodrigo/1+step+forward%2C+3+steps+back']"
      ]
     },
     "execution_count": 8,
     "metadata": {},
     "output_type": "execute_result"
    }
   ],
   "source": [
    "artist_links"
   ]
  }
 ],
 "metadata": {
  "interpreter": {
   "hash": "69a3ce2f6bb012100e6d3a6dfc53e3c28c80191f058a0e7543246ccbd94b8b45"
  },
  "kernelspec": {
   "display_name": "Python 3.8.5 ('spiced')",
   "language": "python",
   "name": "python3"
  },
  "language_info": {
   "codemirror_mode": {
    "name": "ipython",
    "version": 3
   },
   "file_extension": ".py",
   "mimetype": "text/x-python",
   "name": "python",
   "nbconvert_exporter": "python",
   "pygments_lexer": "ipython3",
   "version": "3.8.5"
  },
  "orig_nbformat": 4
 },
 "nbformat": 4,
 "nbformat_minor": 2
}
