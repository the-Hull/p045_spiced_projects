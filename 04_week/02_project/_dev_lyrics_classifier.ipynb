{
 "cells": [
  {
   "cell_type": "markdown",
   "metadata": {},
   "source": [
    "# Lyrics.com artist classifier\n",
    "\n",
    "\n",
    "\n",
    "\n",
    "**Goals:**  \n",
    "In this project, we will build a text classification model on song lyrics. \n",
    "The task is to predict the artist from a piece of text. \n",
    "To train such a model, you first need to collect your own lyrics dataset:\n",
    "\n",
    "- Download a HTML page with links to songs\n",
    "\n",
    "- Extract hyperlinks of song pages\n",
    "\n",
    "- Download and extract the song lyrics\n",
    "\n",
    "- Vectorize the text using the Bag Of Words method\n",
    "\n",
    "- train a classification model that predicts the artist from a piece of text\n",
    "\n",
    "- refactor the code into functions\n",
    "\n",
    "- Write a simple command-line interface for the program\n",
    "\n",
    "- upload your code to GitHub\n",
    "\n"
   ]
  },
  {
   "cell_type": "markdown",
   "metadata": {},
   "source": [
    "## Lyrics download\n",
    "\n",
    "- dev functions that:\n",
    "    1. takes artist name, checks if exists, \n",
    "    2. grabs all lyrics links\n",
    "    3. downloads lyrics"
   ]
  },
  {
   "cell_type": "markdown",
   "metadata": {},
   "source": [
    "### Artist Checking"
   ]
  },
  {
   "cell_type": "code",
   "execution_count": 1,
   "metadata": {},
   "outputs": [],
   "source": [
    "import lyrics_fun as lf"
   ]
  },
  {
   "cell_type": "code",
   "execution_count": 2,
   "metadata": {},
   "outputs": [
    {
     "name": "stdout",
     "output_type": "stream",
     "text": [
      "Artist: Mô ----- Status: 200\n",
      "    Several options for artist; picking first\n"
     ]
    },
    {
     "data": {
      "text/plain": [
       "{'base_url': 'https://www.lyrics.com',\n",
       " 'artist': 'Mô',\n",
       " 'url': 'https://www.lyrics.com/artist/M%C3%B4/',\n",
       " 'url_refined': 'https://www.lyrics.com/artist/Mo/106563',\n",
       " 'response': <Response [200]>,\n",
       " 'status_code': 200,\n",
       " 'exists_on_site': True}"
      ]
     },
     "execution_count": 2,
     "metadata": {},
     "output_type": "execute_result"
    }
   ],
   "source": [
    "arep = lf.get_artist(\"Mô\", True)\n",
    "arep"
   ]
  },
  {
   "cell_type": "code",
   "execution_count": 3,
   "metadata": {},
   "outputs": [
    {
     "name": "stdout",
     "output_type": "stream",
     "text": [
      "Artist: twiddieyiszl ----- Status: 200\n",
      "    No unique artist found\n"
     ]
    },
    {
     "data": {
      "text/plain": [
       "{'base_url': 'https://www.lyrics.com',\n",
       " 'artist': 'twiddieyiszl',\n",
       " 'url': 'https://www.lyrics.com/artist/twiddieyiszl/',\n",
       " 'url_refined': None,\n",
       " 'response': <Response [200]>,\n",
       " 'status_code': 200,\n",
       " 'exists_on_site': False}"
      ]
     },
     "execution_count": 3,
     "metadata": {},
     "output_type": "execute_result"
    }
   ],
   "source": [
    "arep = lf.get_artist(\"twiddieyiszl\", True)\n",
    "arep"
   ]
  },
  {
   "cell_type": "code",
   "execution_count": 4,
   "metadata": {},
   "outputs": [
    {
     "name": "stdout",
     "output_type": "stream",
     "text": [
      "Artist: Olivia Rodrigo ----- Status: 200\n",
      "    Found unique artist\n"
     ]
    },
    {
     "data": {
      "text/plain": [
       "'https://www.lyrics.com/artist/Olivia%20Rodrigo/'"
      ]
     },
     "execution_count": 4,
     "metadata": {},
     "output_type": "execute_result"
    }
   ],
   "source": [
    "# test with single hit\n",
    "req = lf.get_artist(\"Olivia Rodrigo\", True)\n",
    "arep = req['response']\n",
    "aurl =req['url']\n",
    "lf.refine_artist_link(arep, aurl, 'lyrics.com/', False)\n"
   ]
  },
  {
   "cell_type": "code",
   "execution_count": 5,
   "metadata": {},
   "outputs": [
    {
     "name": "stdout",
     "output_type": "stream",
     "text": [
      "    Found unique artist\n"
     ]
    },
    {
     "data": {
      "text/plain": [
       "'https://www.lyrics.com/artist/Kiss/'"
      ]
     },
     "execution_count": 5,
     "metadata": {},
     "output_type": "execute_result"
    }
   ],
   "source": [
    "# test with single hit\n",
    "req = lf.get_artist(\"Kiss\", False)\n",
    "arep = req['response']\n",
    "aurl =req['url']\n",
    "lf.refine_artist_link(arep, aurl, 'lyrics.com/', True)\n"
   ]
  },
  {
   "cell_type": "code",
   "execution_count": 6,
   "metadata": {},
   "outputs": [
    {
     "name": "stdout",
     "output_type": "stream",
     "text": [
      "Artist: sun ----- Status: 200\n",
      "    Several options for artist; picking first\n",
      "    Several options for artist; picking first\n"
     ]
    },
    {
     "data": {
      "text/plain": [
       "'lyrics.com//artist/Sun/5559'"
      ]
     },
     "execution_count": 6,
     "metadata": {},
     "output_type": "execute_result"
    }
   ],
   "source": [
    "# test with multi hit\n",
    "req = lf.get_artist(\"sun\", True)\n",
    "arep = req['response']\n",
    "aurl =req['url']\n",
    "lf.refine_artist_link(arep, aurl, 'lyrics.com/', True)\n"
   ]
  },
  {
   "cell_type": "code",
   "execution_count": 7,
   "metadata": {},
   "outputs": [
    {
     "name": "stdout",
     "output_type": "stream",
     "text": [
      "Artist: gibidigbisij2 ----- Status: 200\n",
      "    No unique artist found\n",
      "    No unique artist found\n"
     ]
    }
   ],
   "source": [
    "# test with no hit\n",
    "req = lf.get_artist(\"gibidigbisij2\", True)\n",
    "arep = req['response']\n",
    "aurl =req['url']\n",
    "lf.refine_artist_link(arep, aurl, 'lyrics.com/', True)\n"
   ]
  },
  {
   "cell_type": "code",
   "execution_count": 8,
   "metadata": {},
   "outputs": [
    {
     "name": "stdout",
     "output_type": "stream",
     "text": [
      "Artist: Olivia Rodrigo ----- Status: 200\n",
      "    Found unique artist\n"
     ]
    },
    {
     "data": {
      "text/plain": [
       "{'base_url': 'https://www.lyrics.com',\n",
       " 'artist': 'Olivia Rodrigo',\n",
       " 'url': 'https://www.lyrics.com/artist/Olivia%20Rodrigo/',\n",
       " 'url_refined': 'https://www.lyrics.com/artist/Olivia%20Rodrigo/',\n",
       " 'response': <Response [200]>,\n",
       " 'status_code': 200,\n",
       " 'exists_on_site': True}"
      ]
     },
     "execution_count": 8,
     "metadata": {},
     "output_type": "execute_result"
    }
   ],
   "source": [
    "artist = lf.get_artist(\"Olivia Rodrigo\", True)\n",
    "artist"
   ]
  },
  {
   "cell_type": "markdown",
   "metadata": {},
   "source": [
    "### Grab lyric links\n",
    "\n",
    "\n",
    "- check if `exists_on_site = True`\n",
    "- grab all song links"
   ]
  },
  {
   "cell_type": "code",
   "execution_count": 1,
   "metadata": {},
   "outputs": [
    {
     "name": "stdout",
     "output_type": "stream",
     "text": [
      "Artist: Sun ----- Status: 200\n",
      "    Several options for artist; picking first\n",
      "    Dropped 20 duplicated lyric links\n",
      "    Dropped 1 instrumental lyric link(s)\n",
      "    Dropped 0 Remix/Acoustic lyric link(s)\n"
     ]
    },
    {
     "data": {
      "text/plain": [
       "6"
      ]
     },
     "execution_count": 1,
     "metadata": {},
     "output_type": "execute_result"
    }
   ],
   "source": [
    "import lyrics_fun as lf\n",
    "\n",
    "artist = lf.get_artist(\"Sun\", True)\n",
    "artist_links = lf.extract_lyric_links(artist, drop_duplicates = True, drop_instrumentals = True, drop_similar=True, verbose=True)\n",
    "len(artist_links['links'])"
   ]
  },
  {
   "cell_type": "code",
   "execution_count": 10,
   "metadata": {},
   "outputs": [
    {
     "data": {
      "text/plain": [
       "{'base_url': 'https://www.lyrics.com',\n",
       " 'artist': 'Sun',\n",
       " 'url': 'https://www.lyrics.com/artist/Sun/',\n",
       " 'url_refined': 'https://www.lyrics.com/artist/Sun/5559',\n",
       " 'response': <Response [200]>,\n",
       " 'status_code': 200,\n",
       " 'exists_on_site': True}"
      ]
     },
     "execution_count": 10,
     "metadata": {},
     "output_type": "execute_result"
    }
   ],
   "source": [
    "artist"
   ]
  },
  {
   "cell_type": "code",
   "execution_count": 11,
   "metadata": {},
   "outputs": [
    {
     "data": {
      "text/plain": [
       "{'base_url': 'https://www.lyrics.com',\n",
       " 'artist': 'Sun',\n",
       " 'url': 'https://www.lyrics.com/artist/Sun/',\n",
       " 'url_refined': 'https://www.lyrics.com/artist/Sun/5559',\n",
       " 'response': <Response [200]>,\n",
       " 'status_code': 200,\n",
       " 'exists_on_site': True,\n",
       " 'links': ['https://www.lyrics.com/lyric/7067990/Sun/I+Had+a+Choice',\n",
       "  'https://www.lyrics.com/lyric/3611604/Sun/Sun+Is+Here',\n",
       "  'https://www.lyrics.com/lyric/4595999/Sun/Force+of+Nature',\n",
       "  'https://www.lyrics.com/lyric/4596655/Sun/My+Woman',\n",
       "  'https://www.lyrics.com/lyric-lf/6468010/Sun/Sailor',\n",
       "  'https://www.lyrics.com/lyric-lf/1361310/Sun/Ms.+Communication']}"
      ]
     },
     "execution_count": 11,
     "metadata": {},
     "output_type": "execute_result"
    }
   ],
   "source": [
    "artist_links"
   ]
  },
  {
   "cell_type": "markdown",
   "metadata": {},
   "source": [
    "### Download lyrics\n",
    "\n",
    "Options for dropping duplicates and instrumentals"
   ]
  },
  {
   "cell_type": "code",
   "execution_count": 12,
   "metadata": {},
   "outputs": [],
   "source": [
    "extract_test = lf.extract_lyric(artist_links=artist_links, verbose = False)"
   ]
  },
  {
   "cell_type": "code",
   "execution_count": 14,
   "metadata": {},
   "outputs": [
    {
     "data": {
      "text/html": [
       "<div>\n",
       "<style scoped>\n",
       "    .dataframe tbody tr th:only-of-type {\n",
       "        vertical-align: middle;\n",
       "    }\n",
       "\n",
       "    .dataframe tbody tr th {\n",
       "        vertical-align: top;\n",
       "    }\n",
       "\n",
       "    .dataframe thead th {\n",
       "        text-align: right;\n",
       "    }\n",
       "</style>\n",
       "<table border=\"1\" class=\"dataframe\">\n",
       "  <thead>\n",
       "    <tr style=\"text-align: right;\">\n",
       "      <th></th>\n",
       "      <th>title</th>\n",
       "      <th>lyric</th>\n",
       "    </tr>\n",
       "  </thead>\n",
       "  <tbody>\n",
       "    <tr>\n",
       "      <th>0</th>\n",
       "      <td>I Had a Choice</td>\n",
       "      <td>Holding hands, strolling through the park Swee...</td>\n",
       "    </tr>\n",
       "    <tr>\n",
       "      <th>1</th>\n",
       "      <td>Sun Is Here</td>\n",
       "      <td>You come in numbers to feel a groove I have a ...</td>\n",
       "    </tr>\n",
       "    <tr>\n",
       "      <th>2</th>\n",
       "      <td>Force of Nature</td>\n",
       "      <td>It's gettin kinda heavy! Yeah yeah It's gettin...</td>\n",
       "    </tr>\n",
       "    <tr>\n",
       "      <th>3</th>\n",
       "      <td>My Woman</td>\n",
       "      <td>Little boy was blue because he knew that soon ...</td>\n",
       "    </tr>\n",
       "    <tr>\n",
       "      <th>4</th>\n",
       "      <td>Sailor</td>\n",
       "      <td>Sailor What do you want from me? Sailor I'm no...</td>\n",
       "    </tr>\n",
       "    <tr>\n",
       "      <th>5</th>\n",
       "      <td>Ms. Communication</td>\n",
       "      <td>I just wanna put it all on the table Maybe we ...</td>\n",
       "    </tr>\n",
       "  </tbody>\n",
       "</table>\n",
       "</div>"
      ],
      "text/plain": [
       "               title                                              lyric\n",
       "0     I Had a Choice  Holding hands, strolling through the park Swee...\n",
       "1        Sun Is Here  You come in numbers to feel a groove I have a ...\n",
       "2    Force of Nature  It's gettin kinda heavy! Yeah yeah It's gettin...\n",
       "3           My Woman  Little boy was blue because he knew that soon ...\n",
       "4             Sailor  Sailor What do you want from me? Sailor I'm no...\n",
       "5  Ms. Communication  I just wanna put it all on the table Maybe we ..."
      ]
     },
     "execution_count": 14,
     "metadata": {},
     "output_type": "execute_result"
    }
   ],
   "source": [
    "lf.pd.DataFrame({'title' : extract_test['lyric_title'], 'lyric': extract_test['lyric_text']})"
   ]
  },
  {
   "cell_type": "code",
   "execution_count": 1,
   "metadata": {},
   "outputs": [
    {
     "name": "stdout",
     "output_type": "stream",
     "text": [
      "Artist: gibidigbisij2 ----- Status: 200\n",
      "    No unique artist found\n",
      "    Can only proceed with an artist listed at lyrics.com, ensure exists_on_site is True. Returning None\n",
      "    Can only proceed with an artist listed at lyrics.com, ensure lyric link extraction was successful. Returning None\n"
     ]
    }
   ],
   "source": [
    "import lyrics_fun as lf\n",
    "\n",
    "\n",
    "fail_artist = lf.get_artist(\"gibidigbisij2\", True)\n",
    "fail_links = lf.extract_lyric_links(fail_artist, drop_duplicates = True, drop_instrumentals = True, drop_similar=True, verbose=True)\n",
    "\n",
    "\n",
    "lf.extract_lyric(artist_links=fail_links, verbose = False)\n",
    "\n",
    "\n"
   ]
  },
  {
   "cell_type": "markdown",
   "metadata": {},
   "source": [
    "## Improvements\n",
    "\n",
    "- Scan for non-english text?! (found korean symbols in one song from Sun)\n",
    "- Strip symbols/punctuation/notation\n",
    "- strip typical lyrical notation/syntax, like \"Verse 2\", \"Hook\"\\\n",
    "- **implement max_lyrics** in extract_lyrics() with a reasonable default value of e.g., 50\n",
    "- ~~implement `drop_similar` and use regex to search for patterns: \"acoustic|remix\"~~ (needs more testing)\n",
    "- refactor code for duplicates/similar/instrumental to:\n",
    "    if any(drop_instrumental, drop_remix, drop_acoustic)):\n",
    "        - filter_for(*args, 'instrumental', 'acoustic', 'remix')\n",
    "        - could use str.join(\"|\", *args)\n",
    "\n",
    "\n",
    "## Next Steps:\n",
    "\n",
    "- ~~dev wrapper function to run all lyric steps~~\n",
    "- dev wrapper to fit logReg model\n",
    "    - make X_y df (wrapper for pd.DataFrame)\n",
    "- dev wrapper with CLI"
   ]
  },
  {
   "cell_type": "code",
   "execution_count": 1,
   "metadata": {},
   "outputs": [
    {
     "name": "stdout",
     "output_type": "stream",
     "text": [
      "Artist: A Constant Knowledge of Death ----- Status: 200\n",
      "    Several options for artist; picking first\n",
      "    Dropped 0 duplicated lyric links\n",
      "    Dropped 0 instrumental lyric link(s)\n",
      "    Dropped 0 Remix/Acoustic lyric link(s)\n"
     ]
    }
   ],
   "source": [
    "import lyrics_fun as lf\n",
    "first = lf.process_artist(artist = \"A Constant Knowledge of Death\", verbose = True)\n",
    "second = lf.process_artist(artist = \"Y Teezy\", verbose = True)\n"
   ]
  },
  {
   "cell_type": "code",
   "execution_count": 3,
   "metadata": {},
   "outputs": [],
   "source": [
    "artists = [first, second]"
   ]
  },
  {
   "cell_type": "code",
   "execution_count": 5,
   "metadata": {},
   "outputs": [],
   "source": [
    "import pickle\n",
    "with open('artist_test.pkl', 'wb') as atestpkl:\n",
    "    pickle.dump(artists, atestpkl)"
   ]
  },
  {
   "cell_type": "code",
   "execution_count": 1,
   "metadata": {},
   "outputs": [
    {
     "data": {
      "text/html": [
       "<div>\n",
       "<style scoped>\n",
       "    .dataframe tbody tr th:only-of-type {\n",
       "        vertical-align: middle;\n",
       "    }\n",
       "\n",
       "    .dataframe tbody tr th {\n",
       "        vertical-align: top;\n",
       "    }\n",
       "\n",
       "    .dataframe thead th {\n",
       "        text-align: right;\n",
       "    }\n",
       "</style>\n",
       "<table border=\"1\" class=\"dataframe\">\n",
       "  <thead>\n",
       "    <tr style=\"text-align: right;\">\n",
       "      <th></th>\n",
       "      <th>artist</th>\n",
       "      <th>text</th>\n",
       "    </tr>\n",
       "  </thead>\n",
       "  <tbody>\n",
       "    <tr>\n",
       "      <th>0</th>\n",
       "      <td>A Constant Knowledge of Death</td>\n",
       "      <td>Breathe Festering lungs Deprived of oxygen Syc...</td>\n",
       "    </tr>\n",
       "    <tr>\n",
       "      <th>1</th>\n",
       "      <td>A Constant Knowledge of Death</td>\n",
       "      <td>Enter the delusion Paths become limitless The ...</td>\n",
       "    </tr>\n",
       "    <tr>\n",
       "      <th>2</th>\n",
       "      <td>A Constant Knowledge of Death</td>\n",
       "      <td>\"And on your deathbed You inexplicably said 'T...</td>\n",
       "    </tr>\n",
       "    <tr>\n",
       "      <th>3</th>\n",
       "      <td>A Constant Knowledge of Death</td>\n",
       "      <td>I think about death often It's not that it sca...</td>\n",
       "    </tr>\n",
       "    <tr>\n",
       "      <th>4</th>\n",
       "      <td>A Constant Knowledge of Death</td>\n",
       "      <td>Each year These walls More ravenous Ten percen...</td>\n",
       "    </tr>\n",
       "    <tr>\n",
       "      <th>...</th>\n",
       "      <td>...</td>\n",
       "      <td>...</td>\n",
       "    </tr>\n",
       "    <tr>\n",
       "      <th>29</th>\n",
       "      <td>Y Teezy</td>\n",
       "      <td>Lil Bitch Lil Bitch Lil Bitch Lil Bitch Say ev...</td>\n",
       "    </tr>\n",
       "    <tr>\n",
       "      <th>30</th>\n",
       "      <td>Y Teezy</td>\n",
       "      <td>Well Alright Let me tell yo ass bout Tommy my ...</td>\n",
       "    </tr>\n",
       "    <tr>\n",
       "      <th>31</th>\n",
       "      <td>Y Teezy</td>\n",
       "      <td>Papamitrou Boy Let me tell you something you a...</td>\n",
       "    </tr>\n",
       "    <tr>\n",
       "      <th>32</th>\n",
       "      <td>Y Teezy</td>\n",
       "      <td>Sunup to sundown I gotta get it Sunup to sundo...</td>\n",
       "    </tr>\n",
       "    <tr>\n",
       "      <th>33</th>\n",
       "      <td>Y Teezy</td>\n",
       "      <td>Star Star Lets get it Star Star Hit after hit ...</td>\n",
       "    </tr>\n",
       "  </tbody>\n",
       "</table>\n",
       "<p>66 rows × 2 columns</p>\n",
       "</div>"
      ],
      "text/plain": [
       "                           artist  \\\n",
       "0   A Constant Knowledge of Death   \n",
       "1   A Constant Knowledge of Death   \n",
       "2   A Constant Knowledge of Death   \n",
       "3   A Constant Knowledge of Death   \n",
       "4   A Constant Knowledge of Death   \n",
       "..                            ...   \n",
       "29                        Y Teezy   \n",
       "30                        Y Teezy   \n",
       "31                        Y Teezy   \n",
       "32                        Y Teezy   \n",
       "33                        Y Teezy   \n",
       "\n",
       "                                                 text  \n",
       "0   Breathe Festering lungs Deprived of oxygen Syc...  \n",
       "1   Enter the delusion Paths become limitless The ...  \n",
       "2   \"And on your deathbed You inexplicably said 'T...  \n",
       "3   I think about death often It's not that it sca...  \n",
       "4   Each year These walls More ravenous Ten percen...  \n",
       "..                                                ...  \n",
       "29  Lil Bitch Lil Bitch Lil Bitch Lil Bitch Say ev...  \n",
       "30  Well Alright Let me tell yo ass bout Tommy my ...  \n",
       "31  Papamitrou Boy Let me tell you something you a...  \n",
       "32  Sunup to sundown I gotta get it Sunup to sundo...  \n",
       "33  Star Star Lets get it Star Star Hit after hit ...  \n",
       "\n",
       "[66 rows x 2 columns]"
      ]
     },
     "execution_count": 1,
     "metadata": {},
     "output_type": "execute_result"
    }
   ],
   "source": [
    "import lyrics_fun as lf\n",
    "import pickle\n",
    "\n",
    "with open('artist_test.pkl', 'rb') as atestpkl:\n",
    "    artists = pickle.load(atestpkl)\n",
    "\n",
    "\n",
    "model_df = lf.make_model_df([artists[0], artists[1]])\n",
    "model_df"
   ]
  },
  {
   "cell_type": "code",
   "execution_count": 2,
   "metadata": {},
   "outputs": [
    {
     "name": "stdout",
     "output_type": "stream",
     "text": [
      "1\n"
     ]
    },
    {
     "data": {
      "text/plain": [
       "{'predicted_artist': 'Y Teezy', 'predicted_proba': 0.5871213598767744}"
      ]
     },
     "execution_count": 2,
     "metadata": {},
     "output_type": "execute_result"
    }
   ],
   "source": [
    "xdf = lf.run_logreg(moddf=model_df, new_lyric='gang gun boy ass tommy star bitch sunup sundown')\n",
    "xdf"
   ]
  },
  {
   "cell_type": "code",
   "execution_count": 4,
   "metadata": {},
   "outputs": [
    {
     "data": {
      "text/plain": [
       "True"
      ]
     },
     "execution_count": 4,
     "metadata": {},
     "output_type": "execute_result"
    }
   ],
   "source": [
    "any([len('a') > 0, len('b') > 1])"
   ]
  },
  {
   "cell_type": "code",
   "execution_count": 5,
   "metadata": {},
   "outputs": [],
   "source": [
    "ls = [5,6,7,100,9]"
   ]
  },
  {
   "cell_type": "code",
   "execution_count": 11,
   "metadata": {},
   "outputs": [
    {
     "data": {
      "text/plain": [
       "3"
      ]
     },
     "execution_count": 11,
     "metadata": {},
     "output_type": "execute_result"
    }
   ],
   "source": [
    "ls.index(100)"
   ]
  }
 ],
 "metadata": {
  "interpreter": {
   "hash": "69a3ce2f6bb012100e6d3a6dfc53e3c28c80191f058a0e7543246ccbd94b8b45"
  },
  "kernelspec": {
   "display_name": "Python 3.8.5 ('spiced')",
   "language": "python",
   "name": "python3"
  },
  "language_info": {
   "codemirror_mode": {
    "name": "ipython",
    "version": 3
   },
   "file_extension": ".py",
   "mimetype": "text/x-python",
   "name": "python",
   "nbconvert_exporter": "python",
   "pygments_lexer": "ipython3",
   "version": "3.8.5"
  },
  "orig_nbformat": 4
 },
 "nbformat": 4,
 "nbformat_minor": 2
}
