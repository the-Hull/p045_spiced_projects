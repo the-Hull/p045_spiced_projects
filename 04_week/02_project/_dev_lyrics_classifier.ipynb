{
 "cells": [
  {
   "cell_type": "markdown",
   "metadata": {},
   "source": [
    "# Lyrics.com artist classifier\n",
    "\n",
    "\n",
    "\n",
    "\n",
    "**Goals:**  \n",
    "In this project, we will build a text classification model on song lyrics. \n",
    "The task is to predict the artist from a piece of text. \n",
    "To train such a model, you first need to collect your own lyrics dataset:\n",
    "\n",
    "- Download a HTML page with links to songs\n",
    "\n",
    "- Extract hyperlinks of song pages\n",
    "\n",
    "- Download and extract the song lyrics\n",
    "\n",
    "- Vectorize the text using the Bag Of Words method\n",
    "\n",
    "- train a classification model that predicts the artist from a piece of text\n",
    "\n",
    "- refactor the code into functions\n",
    "\n",
    "- Write a simple command-line interface for the program\n",
    "\n",
    "- upload your code to GitHub\n",
    "\n"
   ]
  },
  {
   "cell_type": "markdown",
   "metadata": {},
   "source": [
    "## Lyrics download\n",
    "\n",
    "- dev functions that:\n",
    "    1. takes artist name, checks if exists, \n",
    "    2. grabs all lyrics links\n",
    "    3. downloads lyrics"
   ]
  },
  {
   "cell_type": "markdown",
   "metadata": {},
   "source": [
    "### Artist Checking"
   ]
  },
  {
   "cell_type": "code",
   "execution_count": 1,
   "metadata": {},
   "outputs": [],
   "source": [
    "import lyrics_fun as lf"
   ]
  },
  {
   "cell_type": "code",
   "execution_count": 2,
   "metadata": {},
   "outputs": [
    {
     "name": "stdout",
     "output_type": "stream",
     "text": [
      "Artist: Mô ----- Status: 200\n",
      "    Several options for artist; picking first\n"
     ]
    },
    {
     "data": {
      "text/plain": [
       "{'base_url': 'https://www.lyrics.com',\n",
       " 'artist': 'Mô',\n",
       " 'url': 'https://www.lyrics.com/artist/M%C3%B4/',\n",
       " 'url_refined': 'https://www.lyrics.com/artist/Mo/106563',\n",
       " 'response': <Response [200]>,\n",
       " 'status_code': 200,\n",
       " 'exists_on_site': True}"
      ]
     },
     "execution_count": 2,
     "metadata": {},
     "output_type": "execute_result"
    }
   ],
   "source": [
    "arep = lf.get_artist(\"Mô\", True)\n",
    "arep"
   ]
  },
  {
   "cell_type": "code",
   "execution_count": 3,
   "metadata": {},
   "outputs": [
    {
     "name": "stdout",
     "output_type": "stream",
     "text": [
      "Artist: twiddieyiszl ----- Status: 200\n",
      "    No unique artist found\n"
     ]
    },
    {
     "data": {
      "text/plain": [
       "{'base_url': 'https://www.lyrics.com',\n",
       " 'artist': 'twiddieyiszl',\n",
       " 'url': 'https://www.lyrics.com/artist/twiddieyiszl/',\n",
       " 'url_refined': None,\n",
       " 'response': <Response [200]>,\n",
       " 'status_code': 200,\n",
       " 'exists_on_site': False}"
      ]
     },
     "execution_count": 3,
     "metadata": {},
     "output_type": "execute_result"
    }
   ],
   "source": [
    "arep = lf.get_artist(\"twiddieyiszl\", True)\n",
    "arep"
   ]
  },
  {
   "cell_type": "code",
   "execution_count": 4,
   "metadata": {},
   "outputs": [
    {
     "name": "stdout",
     "output_type": "stream",
     "text": [
      "Artist: Olivia Rodrigo ----- Status: 200\n",
      "    Found unique artist\n"
     ]
    },
    {
     "data": {
      "text/plain": [
       "'https://www.lyrics.com/artist/Olivia%20Rodrigo/'"
      ]
     },
     "execution_count": 4,
     "metadata": {},
     "output_type": "execute_result"
    }
   ],
   "source": [
    "# test with single hit\n",
    "req = lf.get_artist(\"Olivia Rodrigo\", True)\n",
    "arep = req['response']\n",
    "aurl =req['url']\n",
    "lf.refine_artist_link(arep, aurl, 'lyrics.com/', False)\n"
   ]
  },
  {
   "cell_type": "code",
   "execution_count": 5,
   "metadata": {},
   "outputs": [
    {
     "name": "stdout",
     "output_type": "stream",
     "text": [
      "    Found unique artist\n"
     ]
    },
    {
     "data": {
      "text/plain": [
       "'https://www.lyrics.com/artist/Kiss/'"
      ]
     },
     "execution_count": 5,
     "metadata": {},
     "output_type": "execute_result"
    }
   ],
   "source": [
    "# test with single hit\n",
    "req = lf.get_artist(\"Kiss\", False)\n",
    "arep = req['response']\n",
    "aurl =req['url']\n",
    "lf.refine_artist_link(arep, aurl, 'lyrics.com/', True)\n"
   ]
  },
  {
   "cell_type": "code",
   "execution_count": 6,
   "metadata": {},
   "outputs": [
    {
     "name": "stdout",
     "output_type": "stream",
     "text": [
      "Artist: sun ----- Status: 200\n",
      "    Several options for artist; picking first\n",
      "    Several options for artist; picking first\n"
     ]
    },
    {
     "data": {
      "text/plain": [
       "'lyrics.com//artist/Sun/5559'"
      ]
     },
     "execution_count": 6,
     "metadata": {},
     "output_type": "execute_result"
    }
   ],
   "source": [
    "# test with multi hit\n",
    "req = lf.get_artist(\"sun\", True)\n",
    "arep = req['response']\n",
    "aurl =req['url']\n",
    "lf.refine_artist_link(arep, aurl, 'lyrics.com/', True)\n"
   ]
  },
  {
   "cell_type": "code",
   "execution_count": 7,
   "metadata": {},
   "outputs": [
    {
     "name": "stdout",
     "output_type": "stream",
     "text": [
      "Artist: gibidigbisij2 ----- Status: 200\n",
      "    No unique artist found\n",
      "    No unique artist found\n"
     ]
    }
   ],
   "source": [
    "# test with no hit\n",
    "req = lf.get_artist(\"gibidigbisij2\", True)\n",
    "arep = req['response']\n",
    "aurl =req['url']\n",
    "lf.refine_artist_link(arep, aurl, 'lyrics.com/', True)\n"
   ]
  },
  {
   "cell_type": "code",
   "execution_count": 8,
   "metadata": {},
   "outputs": [
    {
     "name": "stdout",
     "output_type": "stream",
     "text": [
      "Artist: Olivia Rodrigo ----- Status: 200\n",
      "    Found unique artist\n"
     ]
    },
    {
     "data": {
      "text/plain": [
       "{'base_url': 'https://www.lyrics.com',\n",
       " 'artist': 'Olivia Rodrigo',\n",
       " 'url': 'https://www.lyrics.com/artist/Olivia%20Rodrigo/',\n",
       " 'url_refined': 'https://www.lyrics.com/artist/Olivia%20Rodrigo/',\n",
       " 'response': <Response [200]>,\n",
       " 'status_code': 200,\n",
       " 'exists_on_site': True}"
      ]
     },
     "execution_count": 8,
     "metadata": {},
     "output_type": "execute_result"
    }
   ],
   "source": [
    "artist = lf.get_artist(\"Olivia Rodrigo\", True)\n",
    "artist"
   ]
  },
  {
   "cell_type": "markdown",
   "metadata": {},
   "source": [
    "### Grab lyric links\n",
    "\n",
    "\n",
    "- check if `exists_on_site = True`\n",
    "- grab all song links"
   ]
  },
  {
   "cell_type": "code",
   "execution_count": 1,
   "metadata": {},
   "outputs": [
    {
     "name": "stdout",
     "output_type": "stream",
     "text": [
      "Artist: Sun ----- Status: 200\n",
      "    Several options for artist; picking first\n",
      "    Dropped 20 duplicated lyric links\n",
      "    Dropped 1 instrumental lyric link(s)\n",
      "    Dropped 0 Remix/Acoustic lyric link(s)\n"
     ]
    },
    {
     "data": {
      "text/plain": [
       "6"
      ]
     },
     "execution_count": 1,
     "metadata": {},
     "output_type": "execute_result"
    }
   ],
   "source": [
    "import lyrics_fun as lf\n",
    "\n",
    "artist = lf.get_artist(\"Sun\", True)\n",
    "artist_links = lf.extract_lyric_links(artist, drop_duplicates = True, drop_instrumentals = True, drop_similar=True, verbose=True)\n",
    "len(artist_links['links'])"
   ]
  },
  {
   "cell_type": "code",
   "execution_count": 10,
   "metadata": {},
   "outputs": [
    {
     "data": {
      "text/plain": [
       "{'base_url': 'https://www.lyrics.com',\n",
       " 'artist': 'Sun',\n",
       " 'url': 'https://www.lyrics.com/artist/Sun/',\n",
       " 'url_refined': 'https://www.lyrics.com/artist/Sun/5559',\n",
       " 'response': <Response [200]>,\n",
       " 'status_code': 200,\n",
       " 'exists_on_site': True}"
      ]
     },
     "execution_count": 10,
     "metadata": {},
     "output_type": "execute_result"
    }
   ],
   "source": [
    "artist"
   ]
  },
  {
   "cell_type": "code",
   "execution_count": 11,
   "metadata": {},
   "outputs": [
    {
     "data": {
      "text/plain": [
       "{'base_url': 'https://www.lyrics.com',\n",
       " 'artist': 'Sun',\n",
       " 'url': 'https://www.lyrics.com/artist/Sun/',\n",
       " 'url_refined': 'https://www.lyrics.com/artist/Sun/5559',\n",
       " 'response': <Response [200]>,\n",
       " 'status_code': 200,\n",
       " 'exists_on_site': True,\n",
       " 'links': ['https://www.lyrics.com/lyric/7067990/Sun/I+Had+a+Choice',\n",
       "  'https://www.lyrics.com/lyric/3611604/Sun/Sun+Is+Here',\n",
       "  'https://www.lyrics.com/lyric/4595999/Sun/Force+of+Nature',\n",
       "  'https://www.lyrics.com/lyric/4596655/Sun/My+Woman',\n",
       "  'https://www.lyrics.com/lyric-lf/6468010/Sun/Sailor',\n",
       "  'https://www.lyrics.com/lyric-lf/1361310/Sun/Ms.+Communication']}"
      ]
     },
     "execution_count": 11,
     "metadata": {},
     "output_type": "execute_result"
    }
   ],
   "source": [
    "artist_links"
   ]
  },
  {
   "cell_type": "markdown",
   "metadata": {},
   "source": [
    "### Download lyrics\n",
    "\n",
    "Options for dropping duplicates and instrumentals"
   ]
  },
  {
   "cell_type": "code",
   "execution_count": 12,
   "metadata": {},
   "outputs": [],
   "source": [
    "extract_test = lf.extract_lyric(artist_links=artist_links, verbose = False)"
   ]
  },
  {
   "cell_type": "code",
   "execution_count": 14,
   "metadata": {},
   "outputs": [
    {
     "data": {
      "text/html": [
       "<div>\n",
       "<style scoped>\n",
       "    .dataframe tbody tr th:only-of-type {\n",
       "        vertical-align: middle;\n",
       "    }\n",
       "\n",
       "    .dataframe tbody tr th {\n",
       "        vertical-align: top;\n",
       "    }\n",
       "\n",
       "    .dataframe thead th {\n",
       "        text-align: right;\n",
       "    }\n",
       "</style>\n",
       "<table border=\"1\" class=\"dataframe\">\n",
       "  <thead>\n",
       "    <tr style=\"text-align: right;\">\n",
       "      <th></th>\n",
       "      <th>title</th>\n",
       "      <th>lyric</th>\n",
       "    </tr>\n",
       "  </thead>\n",
       "  <tbody>\n",
       "    <tr>\n",
       "      <th>0</th>\n",
       "      <td>I Had a Choice</td>\n",
       "      <td>Holding hands, strolling through the park Swee...</td>\n",
       "    </tr>\n",
       "    <tr>\n",
       "      <th>1</th>\n",
       "      <td>Sun Is Here</td>\n",
       "      <td>You come in numbers to feel a groove I have a ...</td>\n",
       "    </tr>\n",
       "    <tr>\n",
       "      <th>2</th>\n",
       "      <td>Force of Nature</td>\n",
       "      <td>It's gettin kinda heavy! Yeah yeah It's gettin...</td>\n",
       "    </tr>\n",
       "    <tr>\n",
       "      <th>3</th>\n",
       "      <td>My Woman</td>\n",
       "      <td>Little boy was blue because he knew that soon ...</td>\n",
       "    </tr>\n",
       "    <tr>\n",
       "      <th>4</th>\n",
       "      <td>Sailor</td>\n",
       "      <td>Sailor What do you want from me? Sailor I'm no...</td>\n",
       "    </tr>\n",
       "    <tr>\n",
       "      <th>5</th>\n",
       "      <td>Ms. Communication</td>\n",
       "      <td>I just wanna put it all on the table Maybe we ...</td>\n",
       "    </tr>\n",
       "  </tbody>\n",
       "</table>\n",
       "</div>"
      ],
      "text/plain": [
       "               title                                              lyric\n",
       "0     I Had a Choice  Holding hands, strolling through the park Swee...\n",
       "1        Sun Is Here  You come in numbers to feel a groove I have a ...\n",
       "2    Force of Nature  It's gettin kinda heavy! Yeah yeah It's gettin...\n",
       "3           My Woman  Little boy was blue because he knew that soon ...\n",
       "4             Sailor  Sailor What do you want from me? Sailor I'm no...\n",
       "5  Ms. Communication  I just wanna put it all on the table Maybe we ..."
      ]
     },
     "execution_count": 14,
     "metadata": {},
     "output_type": "execute_result"
    }
   ],
   "source": [
    "lf.pd.DataFrame({'title' : extract_test['lyric_title'], 'lyric': extract_test['lyric_text']})"
   ]
  },
  {
   "cell_type": "code",
   "execution_count": 1,
   "metadata": {},
   "outputs": [
    {
     "name": "stdout",
     "output_type": "stream",
     "text": [
      "Artist: gibidigbisij2 ----- Status: 200\n",
      "    No unique artist found\n",
      "    Can only proceed with an artist listed at lyrics.com, ensure exists_on_site is True. Returning None\n",
      "    Can only proceed with an artist listed at lyrics.com, ensure lyric link extraction was successful. Returning None\n"
     ]
    }
   ],
   "source": [
    "import lyrics_fun as lf\n",
    "\n",
    "\n",
    "fail_artist = lf.get_artist(\"gibidigbisij2\", True)\n",
    "fail_links = lf.extract_lyric_links(fail_artist, drop_duplicates = True, drop_instrumentals = True, drop_similar=True, verbose=True)\n",
    "\n",
    "\n",
    "lf.extract_lyric(artist_links=fail_links, verbose = False)\n",
    "\n",
    "\n"
   ]
  },
  {
   "cell_type": "markdown",
   "metadata": {},
   "source": [
    "## Improvements\n",
    "\n",
    "- Scan for non-english text?! (found korean symbols in one song from Sun)\n",
    "- Strip symbols/punctuation/notation\n",
    "- strip typical lyrical notation/syntax, like \"Verse 2\", \"Hook\"\n",
    "- **implement max_lyrics** in extract_lyrics() with a reasonable default value of e.g., 50\n",
    "- ~~implement `drop_similar` and use regex to search for patterns: \"acoustic|remix\"~~ (needs more testing)\n",
    "\n",
    "## Next Steps:\n",
    "\n",
    "- ~~dev wrapper function to run all lyric steps~~\n",
    "- dev wrapper to fit logReg model\n",
    "    - make X_y df (wrapper for pd.DataFrame)\n",
    "- dev wrapper with CLI"
   ]
  },
  {
   "cell_type": "code",
   "execution_count": 1,
   "metadata": {},
   "outputs": [
    {
     "name": "stdout",
     "output_type": "stream",
     "text": [
      "Artist: Reel Big Fish ----- Status: 200\n",
      "    Found unique artist\n",
      "    Dropped 325 duplicated lyric links\n",
      "    Dropped 2 instrumental lyric link(s)\n",
      "    Dropped 20 Remix/Acoustic lyric link(s)\n"
     ]
    }
   ],
   "source": [
    "import lyrics_fun as lf\n",
    "\n",
    "lyrics = lf.process_artist(\"Reel Big Fish\")"
   ]
  },
  {
   "cell_type": "code",
   "execution_count": 7,
   "metadata": {},
   "outputs": [
    {
     "data": {
      "text/plain": [
       "dict_keys(['base_url', 'artist', 'url', 'url_refined', 'response', 'status_code', 'exists_on_site', 'lyric_link', 'lyric_title', 'lyric_text'])"
      ]
     },
     "execution_count": 7,
     "metadata": {},
     "output_type": "execute_result"
    }
   ],
   "source": [
    "lyrics.keys()"
   ]
  },
  {
   "cell_type": "code",
   "execution_count": 2,
   "metadata": {},
   "outputs": [
    {
     "name": "stdout",
     "output_type": "stream",
     "text": [
      "Artist: OneRepublic ----- Status: 200\n",
      "    Found unique artist\n",
      "    Dropped 537 duplicated lyric links\n",
      "    Dropped 0 instrumental lyric link(s)\n",
      "    Dropped 14 Remix/Acoustic lyric link(s)\n"
     ]
    },
    {
     "data": {
      "text/html": [
       "<div>\n",
       "<style scoped>\n",
       "    .dataframe tbody tr th:only-of-type {\n",
       "        vertical-align: middle;\n",
       "    }\n",
       "\n",
       "    .dataframe tbody tr th {\n",
       "        vertical-align: top;\n",
       "    }\n",
       "\n",
       "    .dataframe thead th {\n",
       "        text-align: right;\n",
       "    }\n",
       "</style>\n",
       "<table border=\"1\" class=\"dataframe\">\n",
       "  <thead>\n",
       "    <tr style=\"text-align: right;\">\n",
       "      <th></th>\n",
       "      <th>artist</th>\n",
       "      <th>title</th>\n",
       "    </tr>\n",
       "  </thead>\n",
       "  <tbody>\n",
       "    <tr>\n",
       "      <th>0</th>\n",
       "      <td>OneRepublic</td>\n",
       "      <td>Woah Woah You bring an energy I've never felt ...</td>\n",
       "    </tr>\n",
       "    <tr>\n",
       "      <th>1</th>\n",
       "      <td>OneRepublic</td>\n",
       "      <td>I'm holding on your rope Got me ten feet off t...</td>\n",
       "    </tr>\n",
       "    <tr>\n",
       "      <th>2</th>\n",
       "      <td>OneRepublic</td>\n",
       "      <td>Never could imagine the way the story happened...</td>\n",
       "    </tr>\n",
       "    <tr>\n",
       "      <th>3</th>\n",
       "      <td>OneRepublic</td>\n",
       "      <td>She said, every time I close my eyes I feel li...</td>\n",
       "    </tr>\n",
       "    <tr>\n",
       "      <th>4</th>\n",
       "      <td>OneRepublic</td>\n",
       "      <td>This town is colder now, I think it's sick of ...</td>\n",
       "    </tr>\n",
       "    <tr>\n",
       "      <th>...</th>\n",
       "      <td>...</td>\n",
       "      <td>...</td>\n",
       "    </tr>\n",
       "    <tr>\n",
       "      <th>131</th>\n",
       "      <td>OneRepublic</td>\n",
       "      <td>I forgot about you I forgot about what you sai...</td>\n",
       "    </tr>\n",
       "    <tr>\n",
       "      <th>132</th>\n",
       "      <td>OneRepublic</td>\n",
       "      <td>Tell me about your day Tell me everything that...</td>\n",
       "    </tr>\n",
       "    <tr>\n",
       "      <th>133</th>\n",
       "      <td>OneRepublic</td>\n",
       "      <td>Some days you're alone, yeah Some days this do...</td>\n",
       "    </tr>\n",
       "    <tr>\n",
       "      <th>134</th>\n",
       "      <td>OneRepublic</td>\n",
       "      <td>Some days, I'm treadin' the water And feel lik...</td>\n",
       "    </tr>\n",
       "    <tr>\n",
       "      <th>135</th>\n",
       "      <td>OneRepublic</td>\n",
       "      <td>I hope that you finally found it all (it all, ...</td>\n",
       "    </tr>\n",
       "  </tbody>\n",
       "</table>\n",
       "<p>136 rows × 2 columns</p>\n",
       "</div>"
      ],
      "text/plain": [
       "          artist                                              title\n",
       "0    OneRepublic  Woah Woah You bring an energy I've never felt ...\n",
       "1    OneRepublic  I'm holding on your rope Got me ten feet off t...\n",
       "2    OneRepublic  Never could imagine the way the story happened...\n",
       "3    OneRepublic  She said, every time I close my eyes I feel li...\n",
       "4    OneRepublic  This town is colder now, I think it's sick of ...\n",
       "..           ...                                                ...\n",
       "131  OneRepublic  I forgot about you I forgot about what you sai...\n",
       "132  OneRepublic  Tell me about your day Tell me everything that...\n",
       "133  OneRepublic  Some days you're alone, yeah Some days this do...\n",
       "134  OneRepublic  Some days, I'm treadin' the water And feel lik...\n",
       "135  OneRepublic  I hope that you finally found it all (it all, ...\n",
       "\n",
       "[136 rows x 2 columns]"
      ]
     },
     "execution_count": 2,
     "metadata": {},
     "output_type": "execute_result"
    }
   ],
   "source": [
    "import lyrics_fun as lf\n",
    "lyrics = lf.process_artist(artist = \"OneRepublic\", verbose = True)\n",
    "lf.make_lyric_df(lyrics)"
   ]
  },
  {
   "cell_type": "code",
   "execution_count": 4,
   "metadata": {},
   "outputs": [
    {
     "data": {
      "text/plain": [
       "'https://www.lyrics.com/artist/OneRepublic/'"
      ]
     },
     "execution_count": 4,
     "metadata": {},
     "output_type": "execute_result"
    }
   ],
   "source": [
    "lyrics['url_refined']"
   ]
  },
  {
   "cell_type": "code",
   "execution_count": 6,
   "metadata": {},
   "outputs": [
    {
     "data": {
      "text/plain": [
       "(136, 2)"
      ]
     },
     "execution_count": 6,
     "metadata": {},
     "output_type": "execute_result"
    }
   ],
   "source": [
    "lyric_df = lf.make_lyric_df(lyrics)\n",
    "lyric_df.shape"
   ]
  }
 ],
 "metadata": {
  "interpreter": {
   "hash": "69a3ce2f6bb012100e6d3a6dfc53e3c28c80191f058a0e7543246ccbd94b8b45"
  },
  "kernelspec": {
   "display_name": "Python 3.8.5 ('spiced')",
   "language": "python",
   "name": "python3"
  },
  "language_info": {
   "codemirror_mode": {
    "name": "ipython",
    "version": 3
   },
   "file_extension": ".py",
   "mimetype": "text/x-python",
   "name": "python",
   "nbconvert_exporter": "python",
   "pygments_lexer": "ipython3",
   "version": "3.8.5"
  },
  "orig_nbformat": 4
 },
 "nbformat": 4,
 "nbformat_minor": 2
}
