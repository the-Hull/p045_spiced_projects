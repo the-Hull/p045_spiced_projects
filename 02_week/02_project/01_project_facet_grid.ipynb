{
 "cells": [
  {
   "cell_type": "markdown",
   "metadata": {},
   "source": [
    "# Visually interrogating model outputs\n",
    "\n",
    "\n",
    "**Facetting** or **Small Multiples** can help with figuring out how features affect model outputs (e.g., predicted probabilities for classifiers).\n",
    "This project shocases `FacetGrid` to plot probablities from a `LogReg` model with several features used as individual plotting features (facets, color, lines).\n",
    "Key for this is the custom function `expand_grid`, which I found in the documentation for `sklearn`."
   ]
  },
  {
   "cell_type": "markdown",
   "metadata": {},
   "source": [
    "## Modelling workflow"
   ]
  },
  {
   "cell_type": "markdown",
   "metadata": {},
   "source": [
    "### Load Libraries"
   ]
  },
  {
   "cell_type": "code",
   "execution_count": 1,
   "metadata": {},
   "outputs": [],
   "source": [
    "import pandas as pd\n",
    "import numpy as np\n",
    "\n",
    "import seaborn as sns\n",
    "import matplotlib.pyplot as plt\n",
    "\n",
    "from sklearn.model_selection import train_test_split\n",
    "from sklearn.linear_model import LogisticRegression\n",
    "\n",
    "\n",
    "from sklearn.pipeline import make_pipeline\n",
    "from sklearn.pipeline import Pipeline\n",
    "from sklearn.preprocessing import OneHotEncoder\n",
    "from sklearn.preprocessing import FunctionTransformer\n",
    "from sklearn.preprocessing import MinMaxScaler\n",
    "from sklearn.impute import SimpleImputer\n",
    "from sklearn.compose import ColumnTransformer"
   ]
  },
  {
   "cell_type": "markdown",
   "metadata": {},
   "source": [
    "### Prep data"
   ]
  },
  {
   "cell_type": "code",
   "execution_count": 140,
   "metadata": {},
   "outputs": [],
   "source": [
    "df = pd.read_csv('../00_data/train.csv')\n",
    "\n",
    "model_cols = ['age_filled', 'Embarked', 'Pclass', 'Sex', 'Fare']\n",
    "\n",
    "\n",
    "# impute mean age by Survival and class\n",
    "df['age_filled']= df.groupby(['Survived', 'Pclass'])['Age'].apply(lambda x: x.fillna(x.mean()))\n",
    "\n",
    "X, y = df.drop('Survived',axis = 1)[model_cols], df.Survived\n"
   ]
  },
  {
   "cell_type": "markdown",
   "metadata": {},
   "source": [
    "### Split Data\n"
   ]
  },
  {
   "cell_type": "code",
   "execution_count": 3,
   "metadata": {},
   "outputs": [],
   "source": [
    "X_train, X_test, y_train, y_test = train_test_split(X[model_cols], y, test_size=0.25)"
   ]
  },
  {
   "cell_type": "markdown",
   "metadata": {},
   "source": [
    "### Feature Engineering"
   ]
  },
  {
   "cell_type": "markdown",
   "metadata": {},
   "source": [
    "#### Define Transformers"
   ]
  },
  {
   "cell_type": "code",
   "execution_count": 4,
   "metadata": {},
   "outputs": [],
   "source": [
    "\n",
    "embark_na_hot = make_pipeline(\n",
    "    SimpleImputer(strategy = 'most_frequent'),\n",
    "    OneHotEncoder(sparse=False, handle_unknown='ignore')\n",
    ")\n",
    "\n",
    "\n",
    "# make a columntrans pipeline\n",
    "fullTransform = ColumnTransformer([\n",
    "    ('age_select', 'passthrough', ['age_filled']),\n",
    "    ('embark_na_hot', embark_na_hot, ['Embarked']),\n",
    "   ('one_hot_encoder', OneHotEncoder(sparse=False, handle_unknown='ignore'), ['Pclass', 'Sex']),\n",
    "    ('fare_scale', MinMaxScaler(feature_range= (0,1)), ['Fare'])\n",
    "],\n",
    "remainder = 'drop')"
   ]
  },
  {
   "cell_type": "markdown",
   "metadata": {},
   "source": [
    "#### Apply Transformations"
   ]
  },
  {
   "cell_type": "code",
   "execution_count": 5,
   "metadata": {},
   "outputs": [
    {
     "name": "stdout",
     "output_type": "stream",
     "text": [
      "(668, 10)\n"
     ]
    },
    {
     "data": {
      "text/plain": [
       "array([[2.06461176e+01, 0.00000000e+00, 0.00000000e+00, ...,\n",
       "        0.00000000e+00, 1.00000000e+00, 1.51757893e-02],\n",
       "       [1.70000000e+01, 1.00000000e+00, 0.00000000e+00, ...,\n",
       "        1.00000000e+00, 0.00000000e+00, 2.34224401e-02],\n",
       "       [3.30000000e+01, 0.00000000e+00, 0.00000000e+00, ...,\n",
       "        1.00000000e+00, 0.00000000e+00, 1.03644297e-01],\n",
       "       ...,\n",
       "       [4.90000000e+01, 0.00000000e+00, 0.00000000e+00, ...,\n",
       "        0.00000000e+00, 1.00000000e+00, 0.00000000e+00],\n",
       "       [2.65555556e+01, 0.00000000e+00, 0.00000000e+00, ...,\n",
       "        0.00000000e+00, 1.00000000e+00, 2.94732371e-02],\n",
       "       [1.80000000e+01, 0.00000000e+00, 0.00000000e+00, ...,\n",
       "        0.00000000e+00, 1.00000000e+00, 2.24465051e-02]])"
      ]
     },
     "execution_count": 5,
     "metadata": {},
     "output_type": "execute_result"
    }
   ],
   "source": [
    "X_train_trans = fullTransform.fit_transform(X = X_train)\n",
    "print(X_train_trans.shape)\n",
    "X_train_trans"
   ]
  },
  {
   "cell_type": "markdown",
   "metadata": {},
   "source": [
    "Get a data frame with transformed column names for later"
   ]
  },
  {
   "cell_type": "code",
   "execution_count": 6,
   "metadata": {},
   "outputs": [],
   "source": [
    "## from https://lifesaver.codes/answer/cannot-get-feature-names-after-columntransformer-12525\n",
    "\n",
    "\n",
    "def get_column_names_from_ColumnTransformer(column_transformer):    \n",
    "    col_name = []\n",
    "    # for transformer_in_columns in column_transformer.transformers_[:-1]:#the last transformer is ColumnTransformer's 'remainder'\n",
    "    for transformer_in_columns in column_transformer.transformers_ :#adjusted this line - seems to drop the last transformer, not only remainder\n",
    "        raw_col_name = transformer_in_columns[2]\n",
    "        if isinstance(transformer_in_columns[1],Pipeline): \n",
    "            transformer = transformer_in_columns[1].steps[-1][1]\n",
    "        else:\n",
    "            transformer = transformer_in_columns[1]\n",
    "        try:\n",
    "            names = transformer.get_feature_names()\n",
    "        except AttributeError: # if no 'get_feature_names' function, use raw column name\n",
    "            names = raw_col_name\n",
    "        if isinstance(names,np.ndarray): # eg.\n",
    "            col_name += names.tolist()\n",
    "        elif isinstance(names,list):\n",
    "            col_name += names    \n",
    "        elif isinstance(names,str):\n",
    "            col_name.append(names)\n",
    "    return col_name\n",
    "\n",
    "\n",
    "\n",
    "# print(full_transformer.fit_transform(X_train).shape[1], len(get_column_names_from_ColumnTransformer(full_transformer)))\n"
   ]
  },
  {
   "cell_type": "code",
   "execution_count": 7,
   "metadata": {},
   "outputs": [],
   "source": [
    "mod_df = pd.DataFrame(\n",
    "    fullTransform.transform(X = X_train),\n",
    "    columns = get_column_names_from_ColumnTransformer(fullTransform)\n",
    "    )\n",
    "\n",
    "\n",
    "# print(get_column_names_from_ColumnTransformer(fullTransform))\n",
    "# fullTransform.transformers_[:-1][1][1].steps[1][1].get_feature_names()\n",
    "\n"
   ]
  },
  {
   "cell_type": "markdown",
   "metadata": {},
   "source": [
    "## Apply LogReg"
   ]
  },
  {
   "cell_type": "code",
   "execution_count": 8,
   "metadata": {},
   "outputs": [
    {
     "data": {
      "text/plain": [
       "LogisticRegression(class_weight='balanced')"
      ]
     },
     "execution_count": 8,
     "metadata": {},
     "output_type": "execute_result"
    }
   ],
   "source": [
    "m = LogisticRegression( class_weight= 'balanced')\n",
    "\n",
    "# fit model\n",
    "m.fit(X_train_trans, y_train)\n",
    "\n",
    "# inspect results\n",
    "m.coef_, m.intercept_"
   ]
  },
  {
   "cell_type": "markdown",
   "metadata": {},
   "source": [
    "#### Check scores"
   ]
  },
  {
   "cell_type": "code",
   "execution_count": 153,
   "metadata": {},
   "outputs": [
    {
     "data": {
      "text/plain": [
       "(0.7889221556886228, 0.8565022421524664)"
      ]
     },
     "execution_count": 153,
     "metadata": {},
     "output_type": "execute_result"
    }
   ],
   "source": [
    "m.score(fullTransform.transform(X = X_train), y_train), m.score(fullTransform.transform(X = X_test), y_test)"
   ]
  },
  {
   "cell_type": "markdown",
   "metadata": {},
   "source": [
    "### Make predictions on new data"
   ]
  },
  {
   "cell_type": "markdown",
   "metadata": {},
   "source": [
    "- make a model grid for:\n",
    "    - all ages\n",
    "    - all PClasses\n",
    "    - all sexes \n",
    "    - median Fare\n",
    "    - all Embarked classes\n",
    "\n",
    "\n",
    "**Use helper function to create the 'grid'**"
   ]
  },
  {
   "cell_type": "code",
   "execution_count": 10,
   "metadata": {},
   "outputs": [
    {
     "data": {
      "text/html": [
       "<div>\n",
       "<style scoped>\n",
       "    .dataframe tbody tr th:only-of-type {\n",
       "        vertical-align: middle;\n",
       "    }\n",
       "\n",
       "    .dataframe tbody tr th {\n",
       "        vertical-align: top;\n",
       "    }\n",
       "\n",
       "    .dataframe thead th {\n",
       "        text-align: right;\n",
       "    }\n",
       "</style>\n",
       "<table border=\"1\" class=\"dataframe\">\n",
       "  <thead>\n",
       "    <tr style=\"text-align: right;\">\n",
       "      <th></th>\n",
       "      <th>PassengerId</th>\n",
       "      <th>Survived</th>\n",
       "      <th>Pclass</th>\n",
       "      <th>Age</th>\n",
       "      <th>SibSp</th>\n",
       "      <th>Parch</th>\n",
       "      <th>Fare</th>\n",
       "      <th>age_filled</th>\n",
       "    </tr>\n",
       "  </thead>\n",
       "  <tbody>\n",
       "    <tr>\n",
       "      <th>count</th>\n",
       "      <td>891.000000</td>\n",
       "      <td>891.000000</td>\n",
       "      <td>891.000000</td>\n",
       "      <td>714.000000</td>\n",
       "      <td>891.000000</td>\n",
       "      <td>891.000000</td>\n",
       "      <td>891.000000</td>\n",
       "      <td>891.000000</td>\n",
       "    </tr>\n",
       "    <tr>\n",
       "      <th>mean</th>\n",
       "      <td>446.000000</td>\n",
       "      <td>0.383838</td>\n",
       "      <td>2.308642</td>\n",
       "      <td>29.699118</td>\n",
       "      <td>0.523008</td>\n",
       "      <td>0.381594</td>\n",
       "      <td>32.204208</td>\n",
       "      <td>29.347365</td>\n",
       "    </tr>\n",
       "    <tr>\n",
       "      <th>std</th>\n",
       "      <td>257.353842</td>\n",
       "      <td>0.486592</td>\n",
       "      <td>0.836071</td>\n",
       "      <td>14.526497</td>\n",
       "      <td>1.102743</td>\n",
       "      <td>0.806057</td>\n",
       "      <td>49.693429</td>\n",
       "      <td>13.319172</td>\n",
       "    </tr>\n",
       "    <tr>\n",
       "      <th>min</th>\n",
       "      <td>1.000000</td>\n",
       "      <td>0.000000</td>\n",
       "      <td>1.000000</td>\n",
       "      <td>0.420000</td>\n",
       "      <td>0.000000</td>\n",
       "      <td>0.000000</td>\n",
       "      <td>0.000000</td>\n",
       "      <td>0.420000</td>\n",
       "    </tr>\n",
       "    <tr>\n",
       "      <th>25%</th>\n",
       "      <td>223.500000</td>\n",
       "      <td>0.000000</td>\n",
       "      <td>2.000000</td>\n",
       "      <td>20.125000</td>\n",
       "      <td>0.000000</td>\n",
       "      <td>0.000000</td>\n",
       "      <td>7.910400</td>\n",
       "      <td>21.000000</td>\n",
       "    </tr>\n",
       "    <tr>\n",
       "      <th>50%</th>\n",
       "      <td>446.000000</td>\n",
       "      <td>0.000000</td>\n",
       "      <td>3.000000</td>\n",
       "      <td>28.000000</td>\n",
       "      <td>0.000000</td>\n",
       "      <td>0.000000</td>\n",
       "      <td>14.454200</td>\n",
       "      <td>26.555556</td>\n",
       "    </tr>\n",
       "    <tr>\n",
       "      <th>75%</th>\n",
       "      <td>668.500000</td>\n",
       "      <td>1.000000</td>\n",
       "      <td>3.000000</td>\n",
       "      <td>38.000000</td>\n",
       "      <td>1.000000</td>\n",
       "      <td>0.000000</td>\n",
       "      <td>31.000000</td>\n",
       "      <td>36.000000</td>\n",
       "    </tr>\n",
       "    <tr>\n",
       "      <th>max</th>\n",
       "      <td>891.000000</td>\n",
       "      <td>1.000000</td>\n",
       "      <td>3.000000</td>\n",
       "      <td>80.000000</td>\n",
       "      <td>8.000000</td>\n",
       "      <td>6.000000</td>\n",
       "      <td>512.329200</td>\n",
       "      <td>80.000000</td>\n",
       "    </tr>\n",
       "  </tbody>\n",
       "</table>\n",
       "</div>"
      ],
      "text/plain": [
       "       PassengerId    Survived      Pclass         Age       SibSp  \\\n",
       "count   891.000000  891.000000  891.000000  714.000000  891.000000   \n",
       "mean    446.000000    0.383838    2.308642   29.699118    0.523008   \n",
       "std     257.353842    0.486592    0.836071   14.526497    1.102743   \n",
       "min       1.000000    0.000000    1.000000    0.420000    0.000000   \n",
       "25%     223.500000    0.000000    2.000000   20.125000    0.000000   \n",
       "50%     446.000000    0.000000    3.000000   28.000000    0.000000   \n",
       "75%     668.500000    1.000000    3.000000   38.000000    1.000000   \n",
       "max     891.000000    1.000000    3.000000   80.000000    8.000000   \n",
       "\n",
       "            Parch        Fare  age_filled  \n",
       "count  891.000000  891.000000  891.000000  \n",
       "mean     0.381594   32.204208   29.347365  \n",
       "std      0.806057   49.693429   13.319172  \n",
       "min      0.000000    0.000000    0.420000  \n",
       "25%      0.000000    7.910400   21.000000  \n",
       "50%      0.000000   14.454200   26.555556  \n",
       "75%      0.000000   31.000000   36.000000  \n",
       "max      6.000000  512.329200   80.000000  "
      ]
     },
     "execution_count": 10,
     "metadata": {},
     "output_type": "execute_result"
    }
   ],
   "source": [
    "df.describe()"
   ]
  },
  {
   "cell_type": "code",
   "execution_count": 27,
   "metadata": {},
   "outputs": [
    {
     "data": {
      "text/html": [
       "<div>\n",
       "<style scoped>\n",
       "    .dataframe tbody tr th:only-of-type {\n",
       "        vertical-align: middle;\n",
       "    }\n",
       "\n",
       "    .dataframe tbody tr th {\n",
       "        vertical-align: top;\n",
       "    }\n",
       "\n",
       "    .dataframe thead th {\n",
       "        text-align: right;\n",
       "    }\n",
       "</style>\n",
       "<table border=\"1\" class=\"dataframe\">\n",
       "  <thead>\n",
       "    <tr style=\"text-align: right;\">\n",
       "      <th></th>\n",
       "      <th>age_filled</th>\n",
       "      <th>Embarked</th>\n",
       "      <th>Pclass</th>\n",
       "      <th>Sex</th>\n",
       "      <th>Fare</th>\n",
       "    </tr>\n",
       "  </thead>\n",
       "  <tbody>\n",
       "    <tr>\n",
       "      <th>0</th>\n",
       "      <td>1.0</td>\n",
       "      <td>Q</td>\n",
       "      <td>1</td>\n",
       "      <td>male</td>\n",
       "      <td>14</td>\n",
       "    </tr>\n",
       "    <tr>\n",
       "      <th>1</th>\n",
       "      <td>1.0</td>\n",
       "      <td>C</td>\n",
       "      <td>1</td>\n",
       "      <td>male</td>\n",
       "      <td>14</td>\n",
       "    </tr>\n",
       "    <tr>\n",
       "      <th>2</th>\n",
       "      <td>1.0</td>\n",
       "      <td>S</td>\n",
       "      <td>1</td>\n",
       "      <td>male</td>\n",
       "      <td>14</td>\n",
       "    </tr>\n",
       "    <tr>\n",
       "      <th>3</th>\n",
       "      <td>1.0</td>\n",
       "      <td>Q</td>\n",
       "      <td>1</td>\n",
       "      <td>female</td>\n",
       "      <td>14</td>\n",
       "    </tr>\n",
       "    <tr>\n",
       "      <th>4</th>\n",
       "      <td>1.0</td>\n",
       "      <td>C</td>\n",
       "      <td>1</td>\n",
       "      <td>female</td>\n",
       "      <td>14</td>\n",
       "    </tr>\n",
       "    <tr>\n",
       "      <th>...</th>\n",
       "      <td>...</td>\n",
       "      <td>...</td>\n",
       "      <td>...</td>\n",
       "      <td>...</td>\n",
       "      <td>...</td>\n",
       "    </tr>\n",
       "    <tr>\n",
       "      <th>1795</th>\n",
       "      <td>80.0</td>\n",
       "      <td>C</td>\n",
       "      <td>3</td>\n",
       "      <td>male</td>\n",
       "      <td>14</td>\n",
       "    </tr>\n",
       "    <tr>\n",
       "      <th>1796</th>\n",
       "      <td>80.0</td>\n",
       "      <td>S</td>\n",
       "      <td>3</td>\n",
       "      <td>male</td>\n",
       "      <td>14</td>\n",
       "    </tr>\n",
       "    <tr>\n",
       "      <th>1797</th>\n",
       "      <td>80.0</td>\n",
       "      <td>Q</td>\n",
       "      <td>3</td>\n",
       "      <td>female</td>\n",
       "      <td>14</td>\n",
       "    </tr>\n",
       "    <tr>\n",
       "      <th>1798</th>\n",
       "      <td>80.0</td>\n",
       "      <td>C</td>\n",
       "      <td>3</td>\n",
       "      <td>female</td>\n",
       "      <td>14</td>\n",
       "    </tr>\n",
       "    <tr>\n",
       "      <th>1799</th>\n",
       "      <td>80.0</td>\n",
       "      <td>S</td>\n",
       "      <td>3</td>\n",
       "      <td>female</td>\n",
       "      <td>14</td>\n",
       "    </tr>\n",
       "  </tbody>\n",
       "</table>\n",
       "<p>1800 rows × 5 columns</p>\n",
       "</div>"
      ],
      "text/plain": [
       "      age_filled Embarked  Pclass     Sex  Fare\n",
       "0            1.0        Q       1    male    14\n",
       "1            1.0        C       1    male    14\n",
       "2            1.0        S       1    male    14\n",
       "3            1.0        Q       1  female    14\n",
       "4            1.0        C       1  female    14\n",
       "...          ...      ...     ...     ...   ...\n",
       "1795        80.0        C       3    male    14\n",
       "1796        80.0        S       3    male    14\n",
       "1797        80.0        Q       3  female    14\n",
       "1798        80.0        C       3  female    14\n",
       "1799        80.0        S       3  female    14\n",
       "\n",
       "[1800 rows x 5 columns]"
      ]
     },
     "execution_count": 27,
     "metadata": {},
     "output_type": "execute_result"
    }
   ],
   "source": [
    "import itertools\n",
    "def expand_grid(data_dict):\n",
    "    \"\"\"Create a dataframe from every combination of given values.\"\"\"\n",
    "    rows = itertools.product(*data_dict.values())\n",
    "    return pd.DataFrame.from_records(rows, columns=data_dict.keys())\n",
    "\n",
    "\n",
    "\n",
    "new_data = expand_grid(\n",
    "    {\n",
    "        'age_filled' : np.linspace(1, 80, 100), # this will get changed into groups\n",
    "        'Pclass' : [1,2,3],\n",
    "        'Sex' : ['male', 'female'],\n",
    "        # 'Fare' : [5],\n",
    "        'Fare' : [round(np.median(df.Fare))],\n",
    "        'Embarked' : ['Q', 'C', 'S']\n",
    "    }\n",
    ")[model_cols]\n",
    "\n",
    "new_data\n"
   ]
  },
  {
   "cell_type": "code",
   "execution_count": 145,
   "metadata": {},
   "outputs": [],
   "source": [
    "X_new = fullTransform.transform(X = new_data)\n",
    "y_pred = m.predict(X_new)\n",
    "y_prob = m.predict_proba(X_new)[:,1] # for survived probability\n",
    "\n",
    "\n",
    "# make a neat df for plotting\n",
    "mod_df_plot = pd.concat(\n",
    "    [\n",
    "        new_data,\n",
    "        pd.Series(y_pred, name = 'Survived'),\n",
    "        pd.Series(y_prob, name = 'Survived_prob') \n",
    "    ],\n",
    "    axis = 1)\n",
    "# mod_df_plot['Survived'] = mod_df_plot['Survived'] == True\n",
    "\n",
    "mod_df_plot\n",
    "\n",
    "\n",
    "\n",
    "# grab unmodelled original data\n",
    "mod_df_plot_original = df[model_cols + ['Survived']]"
   ]
  },
  {
   "cell_type": "code",
   "execution_count": 146,
   "metadata": {},
   "outputs": [
    {
     "data": {
      "text/plain": [
       "array([3, 1, 2])"
      ]
     },
     "execution_count": 146,
     "metadata": {},
     "output_type": "execute_result"
    }
   ],
   "source": [
    "# mod_df_plot_original.Pclass.unique()"
   ]
  },
  {
   "cell_type": "markdown",
   "metadata": {},
   "source": [
    "### Plot some results"
   ]
  },
  {
   "cell_type": "code",
   "execution_count": 150,
   "metadata": {},
   "outputs": [
    {
     "name": "stdout",
     "output_type": "stream",
     "text": [
      "(122, 6)\n",
      "(108, 6)\n",
      "(347, 6)\n",
      "(94, 6)\n",
      "(76, 6)\n",
      "(144, 6)\n"
     ]
    },
    {
     "data": {
      "text/plain": [
       "<seaborn.axisgrid.FacetGrid at 0x7f42eb085b50>"
      ]
     },
     "execution_count": 150,
     "metadata": {},
     "output_type": "execute_result"
    },
    {
     "data": {
      "image/png": "[encoded data removed]",
      "text/plain": [
       "<Figure size 691.75x432 with 6 Axes>"
      ]
     },
     "metadata": {
      "needs_background": "light"
     },
     "output_type": "display_data"
    }
   ],
   "source": [
    "# Alternative with less clutter\n",
    "\n",
    "g = sns.FacetGrid(mod_df_plot, col=\"Pclass\", row = 'Sex')\n",
    "g.map(sns.scatterplot, \n",
    "    'age_filled',\n",
    "    'Survived', \n",
    "    'Survived',\n",
    "    s = 50\n",
    ")\n",
    "\n",
    "\n",
    "g.map(sns.lineplot, \n",
    "    'age_filled',\n",
    "    'Survived_prob',\n",
    "    'Embarked'\n",
    "    )\n",
    "\n",
    "# grab all facets\n",
    "axes = g.fig.axes\n",
    "\n",
    "\n",
    "# use regular expression to get class info from titles of facets\n",
    "import re\n",
    "\n",
    "# iterate over facets (= axes)\n",
    "for ax in axes:\n",
    "\n",
    "    # split facet titles\n",
    "    title = ax.get_title()\n",
    "    rx = re.findall('(?<=[=][ ])\\w+', title)\n",
    "    sex = rx[0]\n",
    "    pclass = int(rx[1])\n",
    "\n",
    "\n",
    "\n",
    "\n",
    "    # make data subset\n",
    "    dtemp = mod_df_plot_original.loc[\n",
    "            (mod_df_plot_original.Sex == sex) &\n",
    "            (mod_df_plot_original.Pclass == pclass), :]\n",
    "\n",
    "    print(dtemp.shape)\n",
    "\n",
    "    # add original data\n",
    "    ax.scatter(\n",
    "        y = dtemp['Survived'],\n",
    "        c = 'black',\n",
    "        marker = '+',\n",
    "        s = 10\n",
    "    )\n",
    "\n",
    "\n",
    "\n",
    "\n",
    "g.add_legend()\n",
    "\n"
   ]
  },
  {
   "cell_type": "code",
   "execution_count": 36,
   "metadata": {},
   "outputs": [
    {
     "data": {
      "text/html": [
       "<div>\n",
       "<style scoped>\n",
       "    .dataframe tbody tr th:only-of-type {\n",
       "        vertical-align: middle;\n",
       "    }\n",
       "\n",
       "    .dataframe tbody tr th {\n",
       "        vertical-align: top;\n",
       "    }\n",
       "\n",
       "    .dataframe thead th {\n",
       "        text-align: right;\n",
       "    }\n",
       "</style>\n",
       "<table border=\"1\" class=\"dataframe\">\n",
       "  <thead>\n",
       "    <tr style=\"text-align: right;\">\n",
       "      <th></th>\n",
       "      <th>age_filled</th>\n",
       "      <th>Embarked</th>\n",
       "      <th>Pclass</th>\n",
       "      <th>Sex</th>\n",
       "      <th>Fare</th>\n",
       "      <th>Survived_actual</th>\n",
       "      <th>Survived</th>\n",
       "      <th>Survived_prob</th>\n",
       "    </tr>\n",
       "  </thead>\n",
       "  <tbody>\n",
       "    <tr>\n",
       "      <th>0</th>\n",
       "      <td>22.000000</td>\n",
       "      <td>S</td>\n",
       "      <td>3</td>\n",
       "      <td>male</td>\n",
       "      <td>7.2500</td>\n",
       "      <td>0</td>\n",
       "      <td>0</td>\n",
       "      <td>0.172105</td>\n",
       "    </tr>\n",
       "    <tr>\n",
       "      <th>1</th>\n",
       "      <td>38.000000</td>\n",
       "      <td>C</td>\n",
       "      <td>1</td>\n",
       "      <td>female</td>\n",
       "      <td>71.2833</td>\n",
       "      <td>1</td>\n",
       "      <td>1</td>\n",
       "      <td>0.941750</td>\n",
       "    </tr>\n",
       "    <tr>\n",
       "      <th>2</th>\n",
       "      <td>26.000000</td>\n",
       "      <td>S</td>\n",
       "      <td>3</td>\n",
       "      <td>female</td>\n",
       "      <td>7.9250</td>\n",
       "      <td>1</td>\n",
       "      <td>1</td>\n",
       "      <td>0.612899</td>\n",
       "    </tr>\n",
       "    <tr>\n",
       "      <th>3</th>\n",
       "      <td>35.000000</td>\n",
       "      <td>S</td>\n",
       "      <td>1</td>\n",
       "      <td>female</td>\n",
       "      <td>53.1000</td>\n",
       "      <td>1</td>\n",
       "      <td>1</td>\n",
       "      <td>0.912659</td>\n",
       "    </tr>\n",
       "    <tr>\n",
       "      <th>4</th>\n",
       "      <td>35.000000</td>\n",
       "      <td>S</td>\n",
       "      <td>3</td>\n",
       "      <td>male</td>\n",
       "      <td>8.0500</td>\n",
       "      <td>0</td>\n",
       "      <td>0</td>\n",
       "      <td>0.106545</td>\n",
       "    </tr>\n",
       "    <tr>\n",
       "      <th>...</th>\n",
       "      <td>...</td>\n",
       "      <td>...</td>\n",
       "      <td>...</td>\n",
       "      <td>...</td>\n",
       "      <td>...</td>\n",
       "      <td>...</td>\n",
       "      <td>...</td>\n",
       "      <td>...</td>\n",
       "    </tr>\n",
       "    <tr>\n",
       "      <th>886</th>\n",
       "      <td>27.000000</td>\n",
       "      <td>S</td>\n",
       "      <td>2</td>\n",
       "      <td>male</td>\n",
       "      <td>13.0000</td>\n",
       "      <td>0</td>\n",
       "      <td>0</td>\n",
       "      <td>0.349276</td>\n",
       "    </tr>\n",
       "    <tr>\n",
       "      <th>887</th>\n",
       "      <td>19.000000</td>\n",
       "      <td>S</td>\n",
       "      <td>1</td>\n",
       "      <td>female</td>\n",
       "      <td>30.0000</td>\n",
       "      <td>1</td>\n",
       "      <td>1</td>\n",
       "      <td>0.953392</td>\n",
       "    </tr>\n",
       "    <tr>\n",
       "      <th>888</th>\n",
       "      <td>26.555556</td>\n",
       "      <td>S</td>\n",
       "      <td>3</td>\n",
       "      <td>female</td>\n",
       "      <td>23.4500</td>\n",
       "      <td>0</td>\n",
       "      <td>1</td>\n",
       "      <td>0.609298</td>\n",
       "    </tr>\n",
       "    <tr>\n",
       "      <th>889</th>\n",
       "      <td>26.000000</td>\n",
       "      <td>C</td>\n",
       "      <td>1</td>\n",
       "      <td>male</td>\n",
       "      <td>30.0000</td>\n",
       "      <td>1</td>\n",
       "      <td>1</td>\n",
       "      <td>0.745059</td>\n",
       "    </tr>\n",
       "    <tr>\n",
       "      <th>890</th>\n",
       "      <td>32.000000</td>\n",
       "      <td>Q</td>\n",
       "      <td>3</td>\n",
       "      <td>male</td>\n",
       "      <td>7.7500</td>\n",
       "      <td>0</td>\n",
       "      <td>0</td>\n",
       "      <td>0.165974</td>\n",
       "    </tr>\n",
       "  </tbody>\n",
       "</table>\n",
       "<p>891 rows × 8 columns</p>\n",
       "</div>"
      ],
      "text/plain": [
       "     age_filled Embarked  Pclass     Sex     Fare  Survived_actual  Survived  \\\n",
       "0     22.000000        S       3    male   7.2500                0         0   \n",
       "1     38.000000        C       1  female  71.2833                1         1   \n",
       "2     26.000000        S       3  female   7.9250                1         1   \n",
       "3     35.000000        S       1  female  53.1000                1         1   \n",
       "4     35.000000        S       3    male   8.0500                0         0   \n",
       "..          ...      ...     ...     ...      ...              ...       ...   \n",
       "886   27.000000        S       2    male  13.0000                0         0   \n",
       "887   19.000000        S       1  female  30.0000                1         1   \n",
       "888   26.555556        S       3  female  23.4500                0         1   \n",
       "889   26.000000        C       1    male  30.0000                1         1   \n",
       "890   32.000000        Q       3    male   7.7500                0         0   \n",
       "\n",
       "     Survived_prob  \n",
       "0         0.172105  \n",
       "1         0.941750  \n",
       "2         0.612899  \n",
       "3         0.912659  \n",
       "4         0.106545  \n",
       "..             ...  \n",
       "886       0.349276  \n",
       "887       0.953392  \n",
       "888       0.609298  \n",
       "889       0.745059  \n",
       "890       0.165974  \n",
       "\n",
       "[891 rows x 8 columns]"
      ]
     },
     "execution_count": 36,
     "metadata": {},
     "output_type": "execute_result"
    }
   ],
   "source": [
    "y_pred = m.predict(fullTransform.transform(X = X))\n",
    "y_prob = m.predict_proba(fullTransform.transform(X = X))[:,1] # for survived probability\n",
    "\n",
    "\n",
    "# make a neat df for plotting\n",
    "mod_df_plot = pd.concat(\n",
    "    [\n",
    "        X,\n",
    "        pd.Series(y, name = 'Survived_actual'),\n",
    "        pd.Series(y_pred, name = 'Survived'),\n",
    "        pd.Series(y_prob, name = 'Survived_prob') \n",
    "    ],\n",
    "    axis = 1)\n",
    "# mod_df_plot['Survived'] = mod_df_plot['Survived'] == True\n",
    "\n",
    "mod_df_plot"
   ]
  },
  {
   "cell_type": "code",
   "execution_count": 42,
   "metadata": {},
   "outputs": [
    {
     "data": {
      "text/plain": [
       "<seaborn.axisgrid.FacetGrid at 0x7f42f2999a00>"
      ]
     },
     "execution_count": 42,
     "metadata": {},
     "output_type": "execute_result"
    },
    {
     "data": {
      "image/png": "[encoded data removed]",
      "text/plain": [
       "<Figure size 691.75x432 with 6 Axes>"
      ]
     },
     "metadata": {
      "needs_background": "light"
     },
     "output_type": "display_data"
    }
   ],
   "source": [
    "# Alternative with less clutter\n",
    "\n",
    "g = sns.FacetGrid(mod_df_plot, col=\"Pclass\", row = 'Sex')\n",
    "g.map(sns.scatterplot, \n",
    "    'age_filled',\n",
    "    'Survived', \n",
    "    'Survived',\n",
    "    s = 30\n",
    ")\n",
    "\n",
    "\n",
    "\n",
    "g.map(sns.scatterplot, \n",
    "    'age_filled',\n",
    "    'Survived_actual', \n",
    "    color = 'black',\n",
    "    s = 5\n",
    ")\n",
    "\n",
    "g.map(sns.lineplot, \n",
    "    'age_filled',\n",
    "    'Survived_prob',\n",
    "    'Embarked'\n",
    "    )\n",
    "\n",
    "g.add_legend()\n",
    "\n"
   ]
  }
 ],
 "metadata": {
  "interpreter": {
   "hash": "69a3ce2f6bb012100e6d3a6dfc53e3c28c80191f058a0e7543246ccbd94b8b45"
  },
  "kernelspec": {
   "display_name": "Python 3.8.5 ('spiced')",
   "language": "python",
   "name": "python3"
  },
  "language_info": {
   "codemirror_mode": {
    "name": "ipython",
    "version": 3
   },
   "file_extension": ".py",
   "mimetype": "text/x-python",
   "name": "python",
   "nbconvert_exporter": "python",
   "pygments_lexer": "ipython3",
   "version": "3.8.5"
  },
  "orig_nbformat": 4
 },
 "nbformat": 4,
 "nbformat_minor": 2
}
