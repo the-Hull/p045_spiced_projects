{
 "cells": [
  {
   "cell_type": "code",
   "execution_count": 1,
   "metadata": {},
   "outputs": [],
   "source": [
    "import pandas as pd\n",
    "from numpy import random\n",
    "from faker import Faker"
   ]
  },
  {
   "cell_type": "code",
   "execution_count": 22,
   "metadata": {},
   "outputs": [
    {
     "data": {
      "text/html": [
       "<div>\n",
       "<style scoped>\n",
       "    .dataframe tbody tr th:only-of-type {\n",
       "        vertical-align: middle;\n",
       "    }\n",
       "\n",
       "    .dataframe tbody tr th {\n",
       "        vertical-align: top;\n",
       "    }\n",
       "\n",
       "    .dataframe thead th {\n",
       "        text-align: right;\n",
       "    }\n",
       "</style>\n",
       "<table border=\"1\" class=\"dataframe\">\n",
       "  <thead>\n",
       "    <tr style=\"text-align: right;\">\n",
       "      <th></th>\n",
       "      <th>checkout</th>\n",
       "      <th>dairy</th>\n",
       "      <th>drinks</th>\n",
       "      <th>fruit</th>\n",
       "      <th>spices</th>\n",
       "    </tr>\n",
       "  </thead>\n",
       "  <tbody>\n",
       "    <tr>\n",
       "      <th>checkout</th>\n",
       "      <td>1.000000</td>\n",
       "      <td>0.000000</td>\n",
       "      <td>0.000000</td>\n",
       "      <td>0.000000</td>\n",
       "      <td>0.000000</td>\n",
       "    </tr>\n",
       "    <tr>\n",
       "      <th>dairy</th>\n",
       "      <td>0.393033</td>\n",
       "      <td>0.000000</td>\n",
       "      <td>0.222483</td>\n",
       "      <td>0.189357</td>\n",
       "      <td>0.195127</td>\n",
       "    </tr>\n",
       "    <tr>\n",
       "      <th>drinks</th>\n",
       "      <td>0.537260</td>\n",
       "      <td>0.027145</td>\n",
       "      <td>0.000000</td>\n",
       "      <td>0.218950</td>\n",
       "      <td>0.216645</td>\n",
       "    </tr>\n",
       "    <tr>\n",
       "      <th>fruit</th>\n",
       "      <td>0.500195</td>\n",
       "      <td>0.237993</td>\n",
       "      <td>0.136080</td>\n",
       "      <td>0.000000</td>\n",
       "      <td>0.125732</td>\n",
       "    </tr>\n",
       "    <tr>\n",
       "      <th>spices</th>\n",
       "      <td>0.251998</td>\n",
       "      <td>0.323122</td>\n",
       "      <td>0.272776</td>\n",
       "      <td>0.152104</td>\n",
       "      <td>0.000000</td>\n",
       "    </tr>\n",
       "  </tbody>\n",
       "</table>\n",
       "</div>"
      ],
      "text/plain": [
       "          checkout     dairy    drinks     fruit    spices\n",
       "checkout  1.000000  0.000000  0.000000  0.000000  0.000000\n",
       "dairy     0.393033  0.000000  0.222483  0.189357  0.195127\n",
       "drinks    0.537260  0.027145  0.000000  0.218950  0.216645\n",
       "fruit     0.500195  0.237993  0.136080  0.000000  0.125732\n",
       "spices    0.251998  0.323122  0.272776  0.152104  0.000000"
      ]
     },
     "execution_count": 22,
     "metadata": {},
     "output_type": "execute_result"
    }
   ],
   "source": [
    "trans = pd.read_json('../00_data/transition_matrix.json')\n",
    "trans"
   ]
  },
  {
   "cell_type": "code",
   "execution_count": 23,
   "metadata": {},
   "outputs": [
    {
     "data": {
      "text/plain": [
       "checkout    0.393033\n",
       "dairy       0.000000\n",
       "drinks      0.222483\n",
       "fruit       0.189357\n",
       "spices      0.195127\n",
       "Name: dairy, dtype: float64"
      ]
     },
     "execution_count": 23,
     "metadata": {},
     "output_type": "execute_result"
    }
   ],
   "source": [
    "trans.loc['dairy', ]"
   ]
  },
  {
   "cell_type": "code",
   "execution_count": 24,
   "metadata": {},
   "outputs": [
    {
     "data": {
      "text/plain": [
       "checkout    0.000000\n",
       "dairy       0.312085\n",
       "drinks      0.159363\n",
       "fruit       0.304117\n",
       "spices      0.224436\n",
       "dtype: float64"
      ]
     },
     "execution_count": 24,
     "metadata": {},
     "output_type": "execute_result"
    }
   ],
   "source": [
    "initial_condition = pd.read_json('../00_data/initial_condition.json',typ='Series')\n",
    "initial_condition"
   ]
  },
  {
   "cell_type": "code",
   "execution_count": 15,
   "metadata": {},
   "outputs": [
    {
     "data": {
      "text/plain": [
       "'fruit'"
      ]
     },
     "execution_count": 15,
     "metadata": {},
     "output_type": "execute_result"
    }
   ],
   "source": [
    "random.choice(initial_condition.index.values, p = initial_condition)"
   ]
  },
  {
   "cell_type": "code",
   "execution_count": 232,
   "metadata": {},
   "outputs": [],
   "source": [
    "\n",
    "\n",
    "class Customer:\n",
    "    \"\"\"\n",
    "    a single customer that moves through the supermarket\n",
    "    in a MCMC simulation\n",
    "    \"\"\"\n",
    "    ...\n",
    "    def __init__(self, initial_state_probabilities, transition_matrix, deltat, budget=100):\n",
    "        fk = Faker()\n",
    "        \n",
    "        self.name =  fk.name()\n",
    "        self.budget = budget\n",
    "        self.initial_state_probabilities = initial_state_probabilities\n",
    "        self.state = random.choice(initial_state_probabilities.index.values, p = initial_state_probabilities)\n",
    "        self.transition_matrix = transition_matrix\n",
    "        self.steps = [self.state]\n",
    "        self.deltat=deltat\n",
    "        \n",
    "    \n",
    "    def __repr__(self):\n",
    "        return f'<Customer {self.name} in {self.state}>'\n",
    "\n",
    "    def next_state(self):\n",
    "        '''\n",
    "        Propagates the customer to the next state.\n",
    "        Returns nothing.\n",
    "        '''\n",
    "        choices = self.transition_matrix.index.values\n",
    "        probs = self.transition_matrix.loc[self.state]\n",
    "        # print(choices, probs)\n",
    "        self.state = random.choice(choices, p = probs)\n",
    "        self.steps.append(self.state)\n",
    "\n",
    "    def is_active(self):\n",
    "        \"\"\"Returns True if the customer has not reached the checkout yet.\"\"\"\n",
    "        if self.state!='checkout':\n",
    "            return True\n",
    "        else:\n",
    "            return False\n",
    "\n",
    "    def sim(self):\n",
    "        self.next_state()\n",
    "        while self.is_active():\n",
    "            self.next_state()\n",
    "\n",
    "    def get_time(self):\n",
    "        assert isinstance(self.deltat, pd._libs.tslibs.timedeltas.Timedelta), 'Need a time delta'\n",
    "        if not self.is_active():\n",
    "            timedf = pd.DataFrame({'steps' : self.steps, 'time' : [self.deltat * v for v in range(len(self.steps))]})\n",
    "            return timedf\n",
    "        else:\n",
    "            return None\n",
    "\n",
    "        \n",
    "\n"
   ]
  },
  {
   "cell_type": "code",
   "execution_count": 233,
   "metadata": {},
   "outputs": [
    {
     "name": "stdout",
     "output_type": "stream",
     "text": [
      "<Customer Elizabeth Hahn in dairy>\n",
      "['dairy', 'spices', 'drinks', 'checkout']\n",
      "<Customer Elizabeth Hahn in checkout>\n"
     ]
    },
    {
     "data": {
      "text/html": [
       "<div>\n",
       "<style scoped>\n",
       "    .dataframe tbody tr th:only-of-type {\n",
       "        vertical-align: middle;\n",
       "    }\n",
       "\n",
       "    .dataframe tbody tr th {\n",
       "        vertical-align: top;\n",
       "    }\n",
       "\n",
       "    .dataframe thead th {\n",
       "        text-align: right;\n",
       "    }\n",
       "</style>\n",
       "<table border=\"1\" class=\"dataframe\">\n",
       "  <thead>\n",
       "    <tr style=\"text-align: right;\">\n",
       "      <th></th>\n",
       "      <th>steps</th>\n",
       "      <th>time</th>\n",
       "    </tr>\n",
       "  </thead>\n",
       "  <tbody>\n",
       "    <tr>\n",
       "      <th>0</th>\n",
       "      <td>dairy</td>\n",
       "      <td>0 days 00:00:00</td>\n",
       "    </tr>\n",
       "    <tr>\n",
       "      <th>1</th>\n",
       "      <td>spices</td>\n",
       "      <td>0 days 00:05:00</td>\n",
       "    </tr>\n",
       "    <tr>\n",
       "      <th>2</th>\n",
       "      <td>drinks</td>\n",
       "      <td>0 days 00:10:00</td>\n",
       "    </tr>\n",
       "    <tr>\n",
       "      <th>3</th>\n",
       "      <td>checkout</td>\n",
       "      <td>0 days 00:15:00</td>\n",
       "    </tr>\n",
       "  </tbody>\n",
       "</table>\n",
       "</div>"
      ],
      "text/plain": [
       "      steps            time\n",
       "0     dairy 0 days 00:00:00\n",
       "1    spices 0 days 00:05:00\n",
       "2    drinks 0 days 00:10:00\n",
       "3  checkout 0 days 00:15:00"
      ]
     },
     "execution_count": 233,
     "metadata": {},
     "output_type": "execute_result"
    }
   ],
   "source": [
    "c1 = Customer(transition_matrix=trans,\n",
    "        initial_state_probabilities=initial_condition,\n",
    "        deltat=pd.Timedelta(5, 'minutes'))\n",
    "print(c1)\n",
    "\n",
    "c1.sim()\n",
    "print(c1.steps)\n",
    "print(c1)\n",
    "c1.get_time()"
   ]
  },
  {
   "cell_type": "code",
   "execution_count": 231,
   "metadata": {},
   "outputs": [
    {
     "data": {
      "text/plain": [
       "[Timedelta('0 days 00:00:00'),\n",
       " Timedelta('0 days 00:05:00'),\n",
       " Timedelta('0 days 00:10:00'),\n",
       " Timedelta('0 days 00:15:00'),\n",
       " Timedelta('0 days 00:20:00')]"
      ]
     },
     "execution_count": 231,
     "metadata": {},
     "output_type": "execute_result"
    }
   ],
   "source": []
  },
  {
   "cell_type": "markdown",
   "metadata": {},
   "source": [
    "next steps:\n",
    "\n",
    " - add time delta for each step (by distance between sections? use dot product to calculate?)\n",
    " - simulate for many"
   ]
  },
  {
   "cell_type": "code",
   "execution_count": 236,
   "metadata": {},
   "outputs": [],
   "source": [
    "n_customers = 1000\n",
    "# customers = [Customer(transition_matrix=trans, initial_state_probabilities=initial_condition) for i in range(n_customers)]\n",
    "customers = [None] * n_customers\n",
    "\n",
    "for i in range(n_customers):\n",
    "    customers[i] = Customer(transition_matrix=trans, initial_state_probabilities=initial_condition,deltat= pd.Timedelta(5, 'minutes'))\n",
    "\n"
   ]
  },
  {
   "cell_type": "code",
   "execution_count": 237,
   "metadata": {},
   "outputs": [],
   "source": [
    "customer_steps = [None] * n_customers\n",
    "\n",
    "for idx, c in enumerate(customers):\n",
    "    c.sim()\n",
    "    customer_steps[idx] = c.steps"
   ]
  },
  {
   "cell_type": "code",
   "execution_count": 238,
   "metadata": {},
   "outputs": [
    {
     "name": "stdout",
     "output_type": "stream",
     "text": [
      "<Customer David Rowland in checkout> ['spices', 'dairy', 'fruit', 'dairy', 'drinks', 'fruit', 'checkout']\n",
      "<Customer Brittney Campbell in checkout> ['dairy', 'fruit', 'dairy', 'drinks', 'checkout']\n",
      "<Customer Christopher Baldwin in checkout> ['drinks', 'checkout']\n",
      "<Customer Steven Nelson in checkout> ['dairy', 'checkout']\n",
      "<Customer Carolyn Brady in checkout> ['drinks', 'checkout']\n",
      "<Customer Katherine Grant in checkout> ['dairy', 'fruit', 'dairy', 'checkout']\n",
      "<Customer Jeffrey Burke in checkout> ['drinks', 'spices', 'drinks', 'checkout']\n",
      "<Customer Miranda Gordon in checkout> ['fruit', 'checkout']\n",
      "<Customer Clinton Griffin in checkout> ['drinks', 'fruit', 'spices', 'drinks', 'fruit', 'dairy', 'fruit', 'drinks', 'checkout']\n",
      "<Customer Cindy West in checkout> ['spices', 'checkout']\n"
     ]
    }
   ],
   "source": [
    "for j in range(10):\n",
    "    print(customers[j], customers[j].steps)"
   ]
  },
  {
   "cell_type": "code",
   "execution_count": 239,
   "metadata": {},
   "outputs": [
    {
     "data": {
      "text/plain": [
       "Timestamp('2022-07-06 00:00:00')"
      ]
     },
     "execution_count": 239,
     "metadata": {},
     "output_type": "execute_result"
    }
   ],
   "source": [
    "pd.to_datetime(\"2022-07-06\")"
   ]
  },
  {
   "cell_type": "markdown",
   "metadata": {},
   "source": [
    "## With supermarket class"
   ]
  },
  {
   "cell_type": "code",
   "execution_count": null,
   "metadata": {},
   "outputs": [],
   "source": [
    "class supermarket(opening, closing, entry_rate, super_deltat, customer_deltat):\n",
    "    \n",
    "    # entry rate and super delta t must have same temporal resoltion, use hourly\n",
    "\n",
    "    # cycle from opening to closing by super_delta t\n",
    "\n",
    "    # for every step, add n customers at a random entry time\n",
    "\n",
    "    # execute sim calculate sim time + entry time\n",
    "\n",
    "    # at last step, check if any customers extend past closing time.\n",
    "    # drop all steps at or past closing time, and add a checkout at closing time instead"
   ]
  }
 ],
 "metadata": {
  "kernelspec": {
   "display_name": "Python 3.8.5 ('spiced')",
   "language": "python",
   "name": "python3"
  },
  "language_info": {
   "codemirror_mode": {
    "name": "ipython",
    "version": 3
   },
   "file_extension": ".py",
   "mimetype": "text/x-python",
   "name": "python",
   "nbconvert_exporter": "python",
   "pygments_lexer": "ipython3",
   "version": "3.8.5"
  },
  "orig_nbformat": 4,
  "vscode": {
   "interpreter": {
    "hash": "69a3ce2f6bb012100e6d3a6dfc53e3c28c80191f058a0e7543246ccbd94b8b45"
   }
  }
 },
 "nbformat": 4,
 "nbformat_minor": 2
}
