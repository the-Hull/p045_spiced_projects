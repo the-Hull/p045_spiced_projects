{
 "cells": [
  {
   "cell_type": "code",
   "execution_count": null,
   "metadata": {},
   "outputs": [],
   "source": [
    "**idea**:\n",
    "\n",
    "\n",
    "\n",
    "**design**:\n",
    "\n",
    "\n",
    "\n",
    "**implementation**:\n",
    "\n"
   ]
  }
 ],
 "metadata": {
  "language_info": {
   "name": "python"
  },
  "orig_nbformat": 4
 },
 "nbformat": 4,
 "nbformat_minor": 2
}
