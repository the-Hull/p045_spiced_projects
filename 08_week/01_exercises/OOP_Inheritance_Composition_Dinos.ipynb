{
 "cells": [
  {
   "cell_type": "code",
   "execution_count": 1,
   "metadata": {},
   "outputs": [],
   "source": [
    "import numpy as np\n",
    "import pandas as pd\n",
    "import random\n",
    "import time"
   ]
  },
  {
   "cell_type": "markdown",
   "metadata": {},
   "source": [
    "## Warmup: finish writing the Dinosaur Class"
   ]
  },
  {
   "cell_type": "markdown",
   "metadata": {},
   "source": [
    "<img src=\"dinosaur.jpeg\" alt=\"drawing\" width=\"600\"/>"
   ]
  },
  {
   "cell_type": "code",
   "execution_count": 2,
   "metadata": {},
   "outputs": [],
   "source": [
    "class Dinosaur:\n",
    "\n",
    "    \"\"\" This is a Dinosaur. Can have a 'veggi' or 'meat-based' diet \"\"\"\n",
    "\n",
    "    def __init__(self, dinosaur_name, strength, diet):\n",
    "        self.name = dinosaur_name\n",
    "        self.strength = strength\n",
    "        self.diet = diet \n",
    "        self.mood = 'sad' \n",
    "        self.animal_kind = 'reptile'\n",
    "\n",
    "    def __repr__(self):\n",
    "        return f'I am a {self.mood} Dinosour with name {self.name} and strength {self.strength}'\n",
    "\n",
    "    def eats(self):\n",
    "        self.mood = 'happy'\n",
    "        print(\"Niam niam niam\")\n",
    "        time.sleep(3)\n",
    "        if self.diet == 'veggi':\n",
    "            print(f\" These greens 🥬 are delicious\")\n",
    "        elif self.diet == 'meat':\n",
    "            print(f\" This meat 🥩 is delicious\")\n",
    "        else:\n",
    "            print(f\" This {self.diet} is delicious\")"
   ]
  },
  {
   "cell_type": "code",
   "execution_count": 3,
   "metadata": {},
   "outputs": [],
   "source": [
    "OurDinosaur = Dinosaur('Pumpkin', 10, 'cake')"
   ]
  },
  {
   "cell_type": "code",
   "execution_count": 4,
   "metadata": {},
   "outputs": [
    {
     "data": {
      "text/plain": [
       "'sad'"
      ]
     },
     "execution_count": 4,
     "metadata": {},
     "output_type": "execute_result"
    }
   ],
   "source": [
    "OurDinosaur.mood"
   ]
  },
  {
   "cell_type": "code",
   "execution_count": 5,
   "metadata": {},
   "outputs": [
    {
     "name": "stdout",
     "output_type": "stream",
     "text": [
      "Niam niam niam\n",
      " This cake is delicious\n"
     ]
    }
   ],
   "source": [
    "OurDinosaur.eats()"
   ]
  },
  {
   "cell_type": "code",
   "execution_count": 6,
   "metadata": {},
   "outputs": [
    {
     "data": {
      "text/plain": [
       "'happy'"
      ]
     },
     "execution_count": 6,
     "metadata": {},
     "output_type": "execute_result"
    }
   ],
   "source": [
    "OurDinosaur.mood"
   ]
  },
  {
   "cell_type": "markdown",
   "metadata": {},
   "source": [
    "# Inheritance and composition \n",
    "..or options to structure my program\n",
    "\n",
    "- Two ways of using classes: \n",
    "    - Inheritance: `child` has a `parent`\n",
    "    - Composition:  `object A` contains `object B`"
   ]
  },
  {
   "cell_type": "markdown",
   "metadata": {},
   "source": [
    "##  Inheritance: \"`child` has a `parent`\"\n",
    "it defines a hyerarchical relation like **_Triceratops_ is a _Dinosaur_**"
   ]
  },
  {
   "cell_type": "markdown",
   "metadata": {},
   "source": [
    "<img src=https://www.science.org/cms/10.1126/science.284.5423.2137/asset/9aac2b8e-a391-4cf6-acd4-ad04ff3ecfb4/assets/graphic/se2597627002.jpeg alt=\"drawing\" width=\"500\"/>"
   ]
  },
  {
   "cell_type": "markdown",
   "metadata": {},
   "source": [
    "### Define child class with the part as an Attribute"
   ]
  },
  {
   "cell_type": "code",
   "execution_count": 7,
   "metadata": {},
   "outputs": [],
   "source": [
    "# A Triceratops is a child of the class Dinosaur\n",
    "# It inherits all the methods and attributes from the parents class\n",
    "class Triceratops(Dinosaur):\n",
    "    pass"
   ]
  },
  {
   "cell_type": "code",
   "execution_count": 8,
   "metadata": {},
   "outputs": [],
   "source": [
    "BasicTriceratops = Triceratops('Tres', 50, 'veggi')"
   ]
  },
  {
   "cell_type": "code",
   "execution_count": 9,
   "metadata": {},
   "outputs": [
    {
     "name": "stdout",
     "output_type": "stream",
     "text": [
      "Niam niam niam\n",
      " These greens 🥬 are delicious\n"
     ]
    }
   ],
   "source": [
    "BasicTriceratops.eats()"
   ]
  },
  {
   "cell_type": "code",
   "execution_count": 10,
   "metadata": {},
   "outputs": [
    {
     "data": {
      "text/plain": [
       "'reptile'"
      ]
     },
     "execution_count": 10,
     "metadata": {},
     "output_type": "execute_result"
    }
   ],
   "source": [
    "BasicTriceratops.animal_kind"
   ]
  },
  {
   "cell_type": "code",
   "execution_count": 11,
   "metadata": {},
   "outputs": [
    {
     "data": {
      "text/plain": [
       "'happy'"
      ]
     },
     "execution_count": 11,
     "metadata": {},
     "output_type": "execute_result"
    }
   ],
   "source": [
    "BasicTriceratops.mood"
   ]
  },
  {
   "cell_type": "markdown",
   "metadata": {},
   "source": [
    "### Extend attributes\n",
    "- e.g. triceratops show off horns"
   ]
  },
  {
   "cell_type": "code",
   "execution_count": 12,
   "metadata": {},
   "outputs": [],
   "source": [
    "# A Triceratops is a child of the class Dinosaur\n",
    "# It inherits all the methods and attributes from the parents class\n",
    "class Triceratops(Dinosaur):\n",
    "    def show_horns(self):\n",
    "        print(\"Look at my beautiful horns\")"
   ]
  },
  {
   "cell_type": "code",
   "execution_count": 13,
   "metadata": {},
   "outputs": [],
   "source": [
    "NextTriceratos = Triceratops('NoName', 70, 'veggi')"
   ]
  },
  {
   "cell_type": "code",
   "execution_count": 14,
   "metadata": {},
   "outputs": [
    {
     "data": {
      "text/plain": [
       "'sad'"
      ]
     },
     "execution_count": 14,
     "metadata": {},
     "output_type": "execute_result"
    }
   ],
   "source": [
    "NextTriceratos.mood"
   ]
  },
  {
   "cell_type": "code",
   "execution_count": 15,
   "metadata": {},
   "outputs": [
    {
     "name": "stdout",
     "output_type": "stream",
     "text": [
      "Niam niam niam\n",
      " These greens 🥬 are delicious\n"
     ]
    }
   ],
   "source": [
    "NextTriceratos.eats()"
   ]
  },
  {
   "cell_type": "code",
   "execution_count": 16,
   "metadata": {},
   "outputs": [
    {
     "name": "stdout",
     "output_type": "stream",
     "text": [
      "Look at my beautiful horns\n"
     ]
    }
   ],
   "source": [
    "NextTriceratos.show_horns()"
   ]
  },
  {
   "cell_type": "code",
   "execution_count": 17,
   "metadata": {},
   "outputs": [],
   "source": [
    "# parent class doesn't know of the extras of the children"
   ]
  },
  {
   "cell_type": "code",
   "execution_count": 18,
   "metadata": {},
   "outputs": [
    {
     "ename": "AttributeError",
     "evalue": "'Dinosaur' object has no attribute 'show_horns'",
     "output_type": "error",
     "traceback": [
      "\u001b[0;31m---------------------------------------------------------------------------\u001b[0m",
      "\u001b[0;31mAttributeError\u001b[0m                            Traceback (most recent call last)",
      "\u001b[1;32m/home/alex/_work/p045_spiced/nlpoblano-student-code/08_week/01_exercises/OOP_Inheritance_Composition_Dinos.ipynb Cell 25'\u001b[0m in \u001b[0;36m<cell line: 1>\u001b[0;34m()\u001b[0m\n\u001b[0;32m----> <a href='vscode-notebook-cell:/home/alex/_work/p045_spiced/nlpoblano-student-code/08_week/01_exercises/OOP_Inheritance_Composition_Dinos.ipynb#ch0000024?line=0'>1</a>\u001b[0m OurDinosaur\u001b[39m.\u001b[39;49mshow_horns()\n",
      "\u001b[0;31mAttributeError\u001b[0m: 'Dinosaur' object has no attribute 'show_horns'"
     ]
    }
   ],
   "source": [
    "OurDinosaur.show_horns()"
   ]
  },
  {
   "cell_type": "markdown",
   "metadata": {},
   "source": [
    "### Modify attributes of parent class\n",
    "- e.g. triceratops are always vegetarian"
   ]
  },
  {
   "cell_type": "markdown",
   "metadata": {},
   "source": [
    "#### You can use `super()` to reference the parent class"
   ]
  },
  {
   "cell_type": "code",
   "execution_count": null,
   "metadata": {},
   "outputs": [],
   "source": [
    "class Triceratops(Dinosaur):\n",
    "    def __init__(self, dinosaur_name, strength):\n",
    "        super().__init__(dinosaur_name, strength, diet = 'veggi')\n",
    "        self.horns = 3\n",
    "    \n",
    "    def show_horns(self):\n",
    "        print(f\"Look at my beautiful {self.horns} horns\")"
   ]
  },
  {
   "cell_type": "code",
   "execution_count": null,
   "metadata": {},
   "outputs": [],
   "source": [
    "TriTri = Triceratops('Tritri', 20)"
   ]
  },
  {
   "cell_type": "code",
   "execution_count": null,
   "metadata": {},
   "outputs": [
    {
     "name": "stdout",
     "output_type": "stream",
     "text": [
      "Niam niam niam\n",
      " These greens 🥬 are delicious\n"
     ]
    }
   ],
   "source": [
    "TriTri.eats()"
   ]
  },
  {
   "cell_type": "code",
   "execution_count": null,
   "metadata": {},
   "outputs": [
    {
     "name": "stdout",
     "output_type": "stream",
     "text": [
      "Look at my beautiful 3 horns\n"
     ]
    }
   ],
   "source": [
    "TriTri.show_horns()"
   ]
  },
  {
   "cell_type": "markdown",
   "metadata": {},
   "source": [
    "## `Exercise`: write the class of your favourite Dinosaur"
   ]
  },
  {
   "cell_type": "code",
   "execution_count": 55,
   "metadata": {},
   "outputs": [],
   "source": [
    "class Albertasaurus(Dinosaur):\n",
    "    def __init__(self, dinosaur_name, strength):\n",
    "        super().__init__(dinosaur_name, strength, diet = 'the meats')\n",
    "        self.speed = 3\n",
    "        self.run_count = 0\n",
    "        self.max_speed = 25\n",
    "    \n",
    "    def run(self):\n",
    "\n",
    "        max_string = \"\"\n",
    "        if self.speed == 25:\n",
    "            max_string = ', which is my max speed'\n",
    "        print(f\"I'm running {self.speed} fast{max_string}!\")\n",
    "\n",
    "        self.run_count += 1\n",
    "        if self.run_count > 3:\n",
    "            print(f\"I need a break now, I'll slow down!\")\n",
    "            self.speed = 3\n",
    "            self.run_count = 0\n",
    "\n",
    "    def speed_boost(self, inc = 5):\n",
    "        if inc > 10:\n",
    "            print(f\"Nobody can stop me now!\")\n",
    "        else: \n",
    "            print(f\"I'm going faster now!\")\n",
    "        self.speed = min([self.speed + inc, self.max_speed])\n"
   ]
  },
  {
   "cell_type": "code",
   "execution_count": 56,
   "metadata": {},
   "outputs": [
    {
     "name": "stdout",
     "output_type": "stream",
     "text": [
      "I am a sad Dinosour with name Albert and strength for days\n",
      "I'm running 3 fast!\n",
      "I'm going faster now!\n",
      "I'm running 8 fast!\n",
      "Nobody can stop me now!\n",
      "I'm running 19 fast!\n",
      "I'm running 19 fast!\n",
      "I need a break now, I'll slow down!\n",
      "I'm running 3 fast!\n",
      "Nobody can stop me now!\n",
      "I'm running 25 fast, which is my max speed!\n"
     ]
    }
   ],
   "source": [
    "p = Albertasaurus('Albert', 'for days')\n",
    "print(p)\n",
    "p.run()\n",
    "p.speed_boost()\n",
    "p.run()\n",
    "p.speed_boost(11)\n",
    "p.run()\n",
    "p.run()\n",
    "p.run()\n",
    "p.speed_boost(30)\n",
    "p.run()\n"
   ]
  },
  {
   "cell_type": "code",
   "execution_count": null,
   "metadata": {},
   "outputs": [],
   "source": []
  },
  {
   "cell_type": "markdown",
   "metadata": {},
   "source": [
    "## Composition: \"`object A` uses/has `object B\"`\n",
    "\n",
    "it defines a horizontal relationship between objects"
   ]
  },
  {
   "cell_type": "markdown",
   "metadata": {},
   "source": [
    "### Example 1: A Dino Cave can only have one dino"
   ]
  },
  {
   "cell_type": "code",
   "execution_count": null,
   "metadata": {},
   "outputs": [],
   "source": [
    "class DinoCave:\n",
    "    def __init__(self,new_dino):\n",
    "        assert isinstance(new_dino,Dinosaur), 'UnicornShed can contain only unicorn'\n",
    "        self.unicorn = new_dino"
   ]
  },
  {
   "cell_type": "markdown",
   "metadata": {},
   "source": [
    "### Example 2: Jurassic Park has many dinosaurs"
   ]
  },
  {
   "cell_type": "code",
   "execution_count": null,
   "metadata": {},
   "outputs": [],
   "source": [
    "class JurassicPark:\n",
    "    \n",
    "    def __init__(self):\n",
    "        self.dinos = [] #JurassicPark starts with an empty list of Dinos\n",
    "    \n",
    "    def add(self, dino):\n",
    "        assert isinstance(dino, Dinosaur), 'JurassicPark only takes dinosaurs'\n",
    "        self.dinos.append(dino)\n",
    "    \n",
    "    def feed_dinos(self):\n",
    "        for d in self.dinos:\n",
    "            print(f\"{d.name} has recieved {d.diet}\")\n",
    "            d.eats()"
   ]
  }
 ],
 "metadata": {
  "hide_input": false,
  "kernelspec": {
   "display_name": "Python 3.8.5 ('spiced')",
   "language": "python",
   "name": "python3"
  },
  "language_info": {
   "codemirror_mode": {
    "name": "ipython",
    "version": 3
   },
   "file_extension": ".py",
   "mimetype": "text/x-python",
   "name": "python",
   "nbconvert_exporter": "python",
   "pygments_lexer": "ipython3",
   "version": "3.8.5"
  },
  "latex_envs": {
   "LaTeX_envs_menu_present": true,
   "autoclose": false,
   "autocomplete": true,
   "bibliofile": "biblio.bib",
   "cite_by": "apalike",
   "current_citInitial": 1,
   "eqLabelWithNumbers": true,
   "eqNumInitial": 1,
   "hotkeys": {
    "equation": "Ctrl-E",
    "itemize": "Ctrl-I"
   },
   "labels_anchors": false,
   "latex_user_defs": false,
   "report_style_numbering": false,
   "user_envs_cfg": false
  },
  "toc": {
   "base_numbering": 1,
   "nav_menu": {},
   "number_sections": true,
   "sideBar": true,
   "skip_h1_title": false,
   "title_cell": "Table of Contents",
   "title_sidebar": "Contents",
   "toc_cell": false,
   "toc_position": {},
   "toc_section_display": true,
   "toc_window_display": false
  },
  "vscode": {
   "interpreter": {
    "hash": "69a3ce2f6bb012100e6d3a6dfc53e3c28c80191f058a0e7543246ccbd94b8b45"
   }
  }
 },
 "nbformat": 4,
 "nbformat_minor": 5
}
