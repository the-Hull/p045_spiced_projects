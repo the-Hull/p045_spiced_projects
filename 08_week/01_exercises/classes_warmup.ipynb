{
 "cells": [
  {
   "cell_type": "code",
   "execution_count": 16,
   "metadata": {},
   "outputs": [
    {
     "name": "stdout",
     "output_type": "stream",
     "text": [
      "I am a giddddy Dinosour with name Sinodaur and strength HYPERS\n"
     ]
    }
   ],
   "source": [
    "import numpy as np\n",
    "import time\n",
    "class Dinosaur:\n",
    "\n",
    "    \"\"\" This is a Dinosaur. Can have a 'veggie' or 'meat-based' diet \"\"\"\n",
    "\n",
    "    def __init__(self, dinosaur_name, strength, diet):\n",
    "        self.name = dinosaur_name\n",
    "        self.strength = strength\n",
    "        self.diet = diet \n",
    "        self.mood = np.random.choice(['happy', 'grumpy', 'aggresive']) #choosen randomly from [happy, grumpy, aggresive]\n",
    "        self.animal_kind = \"raptor\"  # take your own description \n",
    "\n",
    "    def __repr__(self):\n",
    "        return f'I am a {self.mood} Dinosour with name {self.name} and strength {self.strength}'\n",
    "\n",
    "    def eats(self):\n",
    "        print(\"Niam niam niam\")\n",
    "        time.sleep(3)\n",
    "        if self.diet == 'veggi':\n",
    "            print(f\" These greens 🥬 are delicious\")\n",
    "        else:\n",
    "            print(f\" This meat 🥩 is delicious\")\n",
    "\n",
    "sino = Dinosaur('Sinodaur', 'superduper 500x','veggie')\n",
    "sino.animal_kind\n",
    "\n",
    "\n",
    "sino = Dinosaur('Sinodaur', 'HYPERS','everythings')\n",
    "\n",
    "# sino.eats()\n",
    "sino.mood = 'giddddy'\n",
    "print(sino)"
   ]
  }
 ],
 "metadata": {
  "kernelspec": {
   "display_name": "Python 3.8.5 ('spiced')",
   "language": "python",
   "name": "python3"
  },
  "language_info": {
   "codemirror_mode": {
    "name": "ipython",
    "version": 3
   },
   "file_extension": ".py",
   "mimetype": "text/x-python",
   "name": "python",
   "nbconvert_exporter": "python",
   "pygments_lexer": "ipython3",
   "version": "3.8.5"
  },
  "orig_nbformat": 4,
  "vscode": {
   "interpreter": {
    "hash": "69a3ce2f6bb012100e6d3a6dfc53e3c28c80191f058a0e7543246ccbd94b8b45"
   }
  }
 },
 "nbformat": 4,
 "nbformat_minor": 2
}
