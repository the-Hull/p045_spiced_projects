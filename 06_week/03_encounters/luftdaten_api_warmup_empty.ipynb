{
 "cells": [
  {
   "cell_type": "markdown",
   "metadata": {},
   "source": [
    "### Get sensor data from the luftdaten project:\n",
    "- project description: https://luftdaten.info/faq/\n",
    "- API documentation: https://github.com/opendata-stuttgart/meta/wiki/APIs"
   ]
  },
  {
   "cell_type": "code",
   "execution_count": 1,
   "metadata": {},
   "outputs": [],
   "source": [
    "import requests\n",
    "import json\n",
    "import random\n",
    "import time\n",
    "import logging #deluxe version of the print, print difficult for different systems"
   ]
  },
  {
   "cell_type": "code",
   "execution_count": 3,
   "metadata": {},
   "outputs": [],
   "source": [
    "SENSOR_URL = \"http://api.luftdaten.info/static/v1/sensor/{}/\""
   ]
  },
  {
   "cell_type": "markdown",
   "metadata": {},
   "source": [
    "#### 1. Pick one sensor IDs from as that interests you\n",
    "- https://maps.sensor.community/#13/48.7740/9.1828"
   ]
  },
  {
   "cell_type": "code",
   "execution_count": 4,
   "metadata": {},
   "outputs": [],
   "source": [
    "sensor_id = 34757"
   ]
  },
  {
   "cell_type": "markdown",
   "metadata": {},
   "source": [
    "#### 2. Inspect the result of the response"
   ]
  },
  {
   "cell_type": "code",
   "execution_count": 5,
   "metadata": {},
   "outputs": [],
   "source": [
    "result = requests.get(SENSOR_URL.format(sensor_id))"
   ]
  },
  {
   "cell_type": "code",
   "execution_count": 8,
   "metadata": {},
   "outputs": [
    {
     "data": {
      "text/plain": [
       "[{'sensordatavalues': [{'value_type': 'P1',\n",
       "    'value': '8.40',\n",
       "    'id': 24424714505},\n",
       "   {'value_type': 'P2', 'value': '1.48', 'id': 24424714515}],\n",
       "  'timestamp': '2022-06-21 08:12:45',\n",
       "  'sampling_rate': None,\n",
       "  'sensor': {'sensor_type': {'name': 'SDS011',\n",
       "    'manufacturer': 'Nova Fitness',\n",
       "    'id': 14},\n",
       "   'pin': '1',\n",
       "   'id': 34757},\n",
       "  'location': {'country': 'DE',\n",
       "   'exact_location': 1,\n",
       "   'altitude': '41.0',\n",
       "   'latitude': '52.50409993752',\n",
       "   'indoor': 0,\n",
       "   'longitude': '13.28367501497',\n",
       "   'id': 20980},\n",
       "  'id': 10994062935},\n",
       " {'sensordatavalues': [{'value_type': 'P1',\n",
       "    'value': '3.30',\n",
       "    'id': 24424659498},\n",
       "   {'value_type': 'P2', 'value': '1.20', 'id': 24424659736}],\n",
       "  'timestamp': '2022-06-21 08:10:18',\n",
       "  'sampling_rate': None,\n",
       "  'sensor': {'sensor_type': {'name': 'SDS011',\n",
       "    'manufacturer': 'Nova Fitness',\n",
       "    'id': 14},\n",
       "   'pin': '1',\n",
       "   'id': 34757},\n",
       "  'location': {'country': 'DE',\n",
       "   'exact_location': 1,\n",
       "   'altitude': '41.0',\n",
       "   'latitude': '52.50409993752',\n",
       "   'indoor': 0,\n",
       "   'longitude': '13.28367501497',\n",
       "   'id': 20980},\n",
       "  'id': 10994039019}]"
      ]
     },
     "execution_count": 8,
     "metadata": {},
     "output_type": "execute_result"
    }
   ],
   "source": [
    "sens = result.json()\n",
    "sens"
   ]
  },
  {
   "cell_type": "code",
   "execution_count": 12,
   "metadata": {},
   "outputs": [
    {
     "data": {
      "text/plain": [
       "dict_keys(['sensordatavalues', 'timestamp', 'sampling_rate', 'sensor', 'location', 'id'])"
      ]
     },
     "execution_count": 12,
     "metadata": {},
     "output_type": "execute_result"
    }
   ],
   "source": [
    "sens[1].keys()"
   ]
  },
  {
   "cell_type": "code",
   "execution_count": 19,
   "metadata": {},
   "outputs": [
    {
     "data": {
      "text/plain": [
       "range(0, 2)"
      ]
     },
     "execution_count": 19,
     "metadata": {},
     "output_type": "execute_result"
    }
   ],
   "source": [
    "len(sens)"
   ]
  },
  {
   "cell_type": "code",
   "execution_count": 17,
   "metadata": {},
   "outputs": [
    {
     "data": {
      "text/plain": [
       "[{'value_type': 'P1', 'value': '3.30', 'id': 24424659498},\n",
       " {'value_type': 'P2', 'value': '1.20', 'id': 24424659736}]"
      ]
     },
     "execution_count": 17,
     "metadata": {},
     "output_type": "execute_result"
    }
   ],
   "source": [
    "sens[1]['sensordatavalues']"
   ]
  },
  {
   "cell_type": "markdown",
   "metadata": {},
   "source": [
    "### 3. Write a function to extract: \n",
    "- time\n",
    "- P1\n",
    "- P2\n",
    "- longitude\n",
    "- latitude\n",
    "for the given sensor id"
   ]
  },
  {
   "cell_type": "code",
   "execution_count": 24,
   "metadata": {},
   "outputs": [
    {
     "data": {
      "text/plain": [
       "[{'time_stamp': '2022-06-21 08:30:54',\n",
       "  'P1': '14.00',\n",
       "  'P2': '1.60',\n",
       "  'lon': '13.28367501497',\n",
       "  'lat': '52.50409993752'},\n",
       " {'time_stamp': '2022-06-21 08:28:17',\n",
       "  'P1': '6.18',\n",
       "  'P2': '1.13',\n",
       "  'lon': '13.28367501497',\n",
       "  'lat': '52.50409993752'}]"
      ]
     },
     "execution_count": 24,
     "metadata": {},
     "output_type": "execute_result"
    }
   ],
   "source": [
    "def pick_luftdaten_values(sensor_id):\n",
    "    result = requests.get(SENSOR_URL.format(sensor_id)).json()\n",
    "\n",
    "\n",
    "    sens_info = [None] * len(result)\n",
    "\n",
    "    for idx, itm in enumerate(result):\n",
    "        sens_info[idx] = {}\n",
    "\n",
    "        sens_info[idx]['time_stamp'] = itm['timestamp']\n",
    "        sens_info[idx]['P1'] = itm['sensordatavalues'][0]['value']\n",
    "        sens_info[idx]['P2'] = itm['sensordatavalues'][1]['value']\n",
    "        sens_info[idx]['lon'] = itm['location']['longitude']\n",
    "        sens_info[idx]['lat'] = itm['location']['latitude']\n",
    "\n",
    "\n",
    "\n",
    "    return(sens_info)\n",
    "    \n",
    "sensor_id = 34757\n",
    "pick_luftdaten_values(sensor_id)\n",
    "    \n"
   ]
  },
  {
   "cell_type": "code",
   "execution_count": null,
   "metadata": {},
   "outputs": [],
   "source": [
    "json.dump()"
   ]
  }
 ],
 "metadata": {
  "kernelspec": {
   "display_name": "Python 3.8.5 ('spiced')",
   "language": "python",
   "name": "python3"
  },
  "language_info": {
   "codemirror_mode": {
    "name": "ipython",
    "version": 3
   },
   "file_extension": ".py",
   "mimetype": "text/x-python",
   "name": "python",
   "nbconvert_exporter": "python",
   "pygments_lexer": "ipython3",
   "version": "3.8.5"
  },
  "vscode": {
   "interpreter": {
    "hash": "69a3ce2f6bb012100e6d3a6dfc53e3c28c80191f058a0e7543246ccbd94b8b45"
   }
  }
 },
 "nbformat": 4,
 "nbformat_minor": 4
}
