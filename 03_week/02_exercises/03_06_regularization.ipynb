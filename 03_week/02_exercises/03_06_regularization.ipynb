{
 "cells": [
  {
   "cell_type": "code",
   "execution_count": 41,
   "metadata": {},
   "outputs": [],
   "source": [
    "import numpy as np\n",
    "from sklearn.linear_model import LinearRegression\n",
    "from sklearn.preprocessing import PolynomialFeatures\n",
    "import matplotlib.pyplot as plt\n",
    "\n",
    "np.random.seed(42)\n",
    "x = np.linspace(0, 20, 15)\n",
    "y = 5 * x + np.random.normal(0.0, 20.0, 15)\n",
    "X = x.reshape(15, 1)\n",
    "\n",
    "# X_new = np.column_stack([X, X**2, X**3])\n",
    "X_new = X"
   ]
  },
  {
   "cell_type": "code",
   "execution_count": 46,
   "metadata": {},
   "outputs": [],
   "source": [
    "lr = LinearRegression()\n",
    "pr = PolynomialFeatures(degree = 5, interaction_only=False)\n",
    "\n",
    "lr.fit(X = pr.fit_transform(X_new), y=y)\n",
    "\n",
    "\n",
    "y_pred = lr.predict(pr.fit_transform(X_new))\n",
    "\n",
    "\n",
    "\n"
   ]
  },
  {
   "cell_type": "code",
   "execution_count": 47,
   "metadata": {},
   "outputs": [
    {
     "data": {
      "text/plain": [
       "[<matplotlib.lines.Line2D at 0x7fb0b7d60100>]"
      ]
     },
     "execution_count": 47,
     "metadata": {},
     "output_type": "execute_result"
    },
    {
     "data": {
      "image/png": "[encoded data removed]",
      "text/plain": [
       "<Figure size 432x288 with 1 Axes>"
      ]
     },
     "metadata": {
      "needs_background": "light"
     },
     "output_type": "display_data"
    }
   ],
   "source": [
    "plt.scatter(X, y)\n",
    "plt.plot(X, y_pred)"
   ]
  },
  {
   "cell_type": "code",
   "execution_count": 51,
   "metadata": {},
   "outputs": [
    {
     "name": "stdout",
     "output_type": "stream",
     "text": [
      "0 5\n",
      "1 6\n",
      "2 7\n"
     ]
    }
   ],
   "source": [
    "for i, v in enumerate([5,6,7]):\n",
    "    print(i,v)"
   ]
  }
 ],
 "metadata": {
  "interpreter": {
   "hash": "69a3ce2f6bb012100e6d3a6dfc53e3c28c80191f058a0e7543246ccbd94b8b45"
  },
  "kernelspec": {
   "display_name": "Python 3.8.5 ('spiced')",
   "language": "python",
   "name": "python3"
  },
  "language_info": {
   "codemirror_mode": {
    "name": "ipython",
    "version": 3
   },
   "file_extension": ".py",
   "mimetype": "text/x-python",
   "name": "python",
   "nbconvert_exporter": "python",
   "pygments_lexer": "ipython3",
   "version": "3.8.5"
  },
  "orig_nbformat": 4
 },
 "nbformat": 4,
 "nbformat_minor": 2
}
